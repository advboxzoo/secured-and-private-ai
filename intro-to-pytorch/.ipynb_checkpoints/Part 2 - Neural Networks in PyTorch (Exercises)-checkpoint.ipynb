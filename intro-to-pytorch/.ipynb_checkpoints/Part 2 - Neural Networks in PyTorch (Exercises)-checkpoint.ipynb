{
 "cells": [
  {
   "cell_type": "markdown",
   "metadata": {},
   "source": [
    "# Neural networks with PyTorch\n",
    "\n",
    "Deep learning networks tend to be massive with dozens or hundreds of layers, that's where the term \"deep\" comes from. You can build one of these deep networks using only weight matrices as we did in the previous notebook, but in general it's very cumbersome and difficult to implement. PyTorch has a nice module `nn` that provides a nice way to efficiently build large neural networks."
   ]
  },
  {
   "cell_type": "code",
   "execution_count": 1,
   "metadata": {},
   "outputs": [],
   "source": [
    "# Import necessary packages\n",
    "\n",
    "%matplotlib inline\n",
    "%config InlineBackend.figure_format = 'retina'\n",
    "\n",
    "import numpy as np\n",
    "import torch\n",
    "\n",
    "import helper\n",
    "\n",
    "import matplotlib.pyplot as plt"
   ]
  },
  {
   "cell_type": "markdown",
   "metadata": {},
   "source": [
    "\n",
    "Now we're going to build a larger network that can solve a (formerly) difficult problem, identifying text in an image. Here we'll use the MNIST dataset which consists of greyscale handwritten digits. Each image is 28x28 pixels, you can see a sample below\n",
    "\n",
    "<img src='assets/mnist.png'>\n",
    "\n",
    "Our goal is to build a neural network that can take one of these images and predict the digit in the image.\n",
    "\n",
    "First up, we need to get our dataset. This is provided through the `torchvision` package. The code below will download the MNIST dataset, then create training and test datasets for us. Don't worry too much about the details here, you'll learn more about this later."
   ]
  },
  {
   "cell_type": "code",
   "execution_count": 2,
   "metadata": {},
   "outputs": [],
   "source": [
    "### Run this cell\n",
    "\n",
    "from torchvision import datasets, transforms\n",
    "\n",
    "# Define a transform to normalize the data\n",
    "transform = transforms.Compose([transforms.ToTensor(),\n",
    "                              transforms.Normalize((0.5,), (0.5,)),\n",
    "                              ])\n",
    "\n",
    "# Download and load the training data\n",
    "trainset = datasets.MNIST('~/.pytorch/MNIST_data/', download=True, train=True, transform=transform)\n",
    "trainloader = torch.utils.data.DataLoader(trainset, batch_size=64, shuffle=True)"
   ]
  },
  {
   "cell_type": "markdown",
   "metadata": {},
   "source": [
    "We have the training data loaded into `trainloader` and we make that an iterator with `iter(trainloader)`. Later, we'll use this to loop through the dataset for training, like\n",
    "\n",
    "```python\n",
    "for image, label in trainloader:\n",
    "    ## do things with images and labels\n",
    "```\n",
    "\n",
    "You'll notice I created the `trainloader` with a batch size of 64, and `shuffle=True`. The batch size is the number of images we get in one iteration from the data loader and pass through our network, often called a *batch*. And `shuffle=True` tells it to shuffle the dataset every time we start going through the data loader again. But here I'm just grabbing the first batch so we can check out the data. We can see below that `images` is just a tensor with size `(64, 1, 28, 28)`. So, 64 images per batch, 1 color channel, and 28x28 images."
   ]
  },
  {
   "cell_type": "code",
   "execution_count": 3,
   "metadata": {},
   "outputs": [
    {
     "name": "stdout",
     "output_type": "stream",
     "text": [
      "<class 'torch.Tensor'>\n",
      "torch.Size([64, 1, 28, 28])\n",
      "torch.Size([64])\n"
     ]
    }
   ],
   "source": [
    "dataiter = iter(trainloader)\n",
    "images, labels = dataiter.next()\n",
    "print(type(images))\n",
    "print(images.shape)\n",
    "print(labels.shape)"
   ]
  },
  {
   "cell_type": "markdown",
   "metadata": {},
   "source": [
    "This is what one of the images looks like. "
   ]
  },
  {
   "cell_type": "code",
   "execution_count": 4,
   "metadata": {},
   "outputs": [
    {
     "data": {
      "image/png": "[encoded data removed]",
      "text/plain": [
       "<Figure size 432x288 with 1 Axes>"
      ]
     },
     "metadata": {
      "image/png": {
       "height": 250,
       "width": 253
      },
      "needs_background": "light"
     },
     "output_type": "display_data"
    }
   ],
   "source": [
    "plt.imshow(images[1].numpy().squeeze(), cmap='Greys_r');"
   ]
  },
  {
   "cell_type": "markdown",
   "metadata": {},
   "source": [
    "First, let's try to build a simple network for this dataset using weight matrices and matrix multiplications. Then, we'll see how to do it using PyTorch's `nn` module which provides a much more convenient and powerful method for defining network architectures.\n",
    "\n",
    "The networks you've seen so far are called *fully-connected* or *dense* networks. Each unit in one layer is connected to each unit in the next layer. In fully-connected networks, the input to each layer must be a one-dimensional vector (which can be stacked into a 2D tensor as a batch of multiple examples). However, our images are 28x28 2D tensors, so we need to convert them into 1D vectors. Thinking about sizes, we need to convert the batch of images with shape `(64, 1, 28, 28)` to a have a shape of `(64, 784)`, 784 is 28 times 28. This is typically called *flattening*, we flattened the 2D images into 1D vectors.\n",
    "\n",
    "Previously you built a network with one output unit. Here we need 10 output units, one for each digit. We want our network to predict the digit shown in an image, so what we'll do is calculate probabilities that the image is of any one digit or class. This ends up being a discrete probability distribution over the classes (digits) that tells us the most likely class for the image. That means we need 10 output units for the 10 classes (digits). We'll see how to convert the network output into a probability distribution next.\n",
    "\n",
    "> **Exercise:** Flatten the batch of images `images`. Then build a multi-layer network with 784 input units, 256 hidden units, and 10 output units using random tensors for the weights and biases. For now, use a sigmoid activation for the hidden layer. Leave the output layer without an activation, we'll add one that gives us a probability distribution next."
   ]
  },
  {
   "cell_type": "code",
   "execution_count": 6,
   "metadata": {},
   "outputs": [],
   "source": [
    "## Your solution\n",
    "def activation(x):\n",
    "    return 1/(1+torch.exp(-x))\n",
    "\n",
    "inputs = images.view(images.shape[0],-1)\n",
    "\n",
    "w1 = torch.randn(784,256)\n",
    "b1 = torch.randn(256)\n",
    "\n",
    "w2 = torch.randn(256,10)\n",
    "b2 = torch.randn(10)\n",
    "\n",
    "out = activation(torch.mm(activation(torch.mm(inputs,w1)+b1),w2)+b2)# output of your network, should have shape (64,10)"
   ]
  },
  {
   "cell_type": "code",
   "execution_count": 7,
   "metadata": {},
   "outputs": [
    {
     "data": {
      "text/plain": [
       "tensor([[1.0000e+00, 3.1185e-02, 9.9997e-01, 7.8494e-01, 1.6374e-04, 4.0074e-01,\n",
       "         9.1867e-01, 1.0000e+00, 5.5747e-04, 6.5886e-07],\n",
       "        [9.9958e-01, 9.1932e-04, 9.9966e-01, 8.2699e-01, 3.9774e-01, 3.9046e-02,\n",
       "         1.3410e-02, 1.0000e+00, 7.5137e-02, 1.0160e-06],\n",
       "        [9.9999e-01, 4.0619e-06, 2.8966e-01, 9.9931e-01, 6.0017e-01, 1.0992e-02,\n",
       "         3.1167e-01, 1.0000e+00, 1.0560e-01, 7.7363e-08],\n",
       "        [1.0000e+00, 9.3870e-06, 7.1390e-01, 9.9273e-01, 4.1293e-01, 9.9903e-01,\n",
       "         9.8475e-01, 1.0000e+00, 6.4010e-06, 1.7564e-08],\n",
       "        [9.9981e-01, 7.8480e-01, 9.9982e-01, 9.9885e-01, 9.9106e-01, 5.9990e-03,\n",
       "         9.9985e-01, 9.9997e-01, 1.2251e-01, 8.3888e-07],\n",
       "        [9.9999e-01, 9.8642e-01, 9.9997e-01, 9.9995e-01, 7.9969e-02, 9.9938e-01,\n",
       "         9.9956e-01, 1.0000e+00, 1.3942e-03, 8.0658e-08],\n",
       "        [1.0000e+00, 6.4288e-01, 9.9473e-01, 9.9998e-01, 1.0000e+00, 5.9514e-01,\n",
       "         1.0000e+00, 7.7990e-01, 1.3569e-02, 1.8598e-05],\n",
       "        [9.9990e-01, 7.2512e-05, 9.9749e-01, 9.9867e-01, 7.6654e-02, 1.3060e-03,\n",
       "         2.8753e-01, 1.0000e+00, 7.1253e-02, 4.1795e-01],\n",
       "        [1.0000e+00, 2.9843e-06, 9.9486e-01, 9.9827e-01, 2.3844e-04, 9.5128e-01,\n",
       "         7.3405e-01, 1.0000e+00, 6.6989e-02, 7.8917e-07],\n",
       "        [9.9999e-01, 1.2026e-05, 9.9379e-01, 9.9989e-01, 9.9996e-01, 9.9320e-01,\n",
       "         9.9999e-01, 9.9759e-01, 6.6562e-01, 4.1089e-07],\n",
       "        [1.0000e+00, 3.0574e-03, 1.0000e+00, 9.9984e-01, 5.6189e-01, 9.5885e-01,\n",
       "         9.9735e-01, 1.0000e+00, 3.5226e-03, 1.1788e-08],\n",
       "        [1.0000e+00, 9.3559e-01, 9.8903e-01, 9.9853e-01, 9.9820e-01, 1.6972e-02,\n",
       "         9.9999e-01, 9.9997e-01, 3.1495e-03, 1.1939e-06],\n",
       "        [1.0000e+00, 1.0981e-03, 1.0000e+00, 1.0000e+00, 9.7170e-01, 9.9813e-01,\n",
       "         9.9830e-01, 1.0000e+00, 1.4445e-04, 6.8027e-10],\n",
       "        [1.0000e+00, 5.5765e-01, 9.9999e-01, 9.9997e-01, 1.7552e-01, 9.9801e-01,\n",
       "         9.9994e-01, 1.0000e+00, 1.1486e-01, 4.3125e-06],\n",
       "        [9.9601e-01, 6.5605e-04, 9.9994e-01, 9.9990e-01, 2.6161e-03, 5.5464e-01,\n",
       "         7.1417e-01, 1.0000e+00, 2.6022e-03, 7.0685e-01],\n",
       "        [9.9999e-01, 9.9922e-01, 9.5990e-01, 9.9940e-01, 2.8682e-01, 2.3543e-01,\n",
       "         3.5377e-02, 1.0000e+00, 1.5655e-01, 5.9239e-09],\n",
       "        [9.9944e-01, 2.5013e-01, 4.7522e-01, 9.9862e-01, 7.0738e-01, 3.9243e-01,\n",
       "         1.0000e+00, 9.9996e-01, 5.9471e-05, 2.6752e-05],\n",
       "        [9.9970e-01, 2.8664e-02, 9.9997e-01, 9.9631e-01, 9.9059e-01, 2.9045e-01,\n",
       "         8.8521e-01, 1.0000e+00, 9.0781e-01, 3.2194e-05],\n",
       "        [1.0000e+00, 1.5710e-02, 9.9943e-01, 1.0000e+00, 2.1022e-04, 2.6230e-04,\n",
       "         9.9997e-01, 1.0000e+00, 5.8199e-05, 1.6099e-07],\n",
       "        [9.9998e-01, 1.6767e-03, 8.7681e-01, 2.6559e-02, 4.2328e-01, 7.6414e-05,\n",
       "         9.6901e-01, 1.0000e+00, 4.4471e-03, 3.3566e-07],\n",
       "        [1.0000e+00, 1.2242e-04, 9.3916e-01, 9.9958e-01, 9.8520e-01, 9.3195e-01,\n",
       "         9.9285e-01, 1.0000e+00, 7.1866e-01, 2.0636e-07],\n",
       "        [6.5365e-01, 3.2564e-02, 9.9666e-01, 1.1148e-01, 3.9024e-01, 4.6253e-01,\n",
       "         4.7898e-01, 9.9998e-01, 8.6371e-02, 7.0921e-07],\n",
       "        [1.0000e+00, 2.2313e-04, 9.8752e-01, 9.7876e-01, 9.5672e-01, 2.6578e-01,\n",
       "         9.9771e-01, 9.9999e-01, 1.4299e-01, 1.7509e-03],\n",
       "        [1.0000e+00, 2.2377e-03, 9.9994e-01, 9.9990e-01, 8.8872e-01, 8.5918e-01,\n",
       "         7.3070e-01, 1.0000e+00, 7.3167e-05, 3.5679e-06],\n",
       "        [9.9742e-01, 2.0565e-01, 9.9974e-01, 9.9966e-01, 6.2625e-02, 9.9909e-01,\n",
       "         1.0000e+00, 1.0000e+00, 2.1930e-01, 3.5914e-09],\n",
       "        [1.0000e+00, 9.8324e-07, 9.9976e-01, 1.0000e+00, 4.3833e-01, 9.9869e-01,\n",
       "         9.9977e-01, 1.0000e+00, 8.4696e-01, 1.8934e-07],\n",
       "        [5.3062e-01, 8.8349e-01, 6.6302e-04, 9.9455e-01, 1.7735e-01, 8.3567e-01,\n",
       "         9.9985e-01, 1.0000e+00, 3.3974e-04, 1.7110e-10],\n",
       "        [1.0000e+00, 9.0784e-01, 9.9501e-01, 9.9938e-01, 5.0444e-05, 9.7031e-01,\n",
       "         9.9999e-01, 9.9999e-01, 5.0068e-04, 4.0826e-07],\n",
       "        [9.9013e-01, 7.8029e-01, 9.0247e-01, 8.1265e-01, 1.5311e-02, 7.7469e-01,\n",
       "         2.7865e-02, 1.0000e+00, 2.8882e-01, 1.3411e-06],\n",
       "        [1.0000e+00, 7.1476e-05, 9.9543e-01, 9.9961e-01, 3.5028e-01, 9.8660e-01,\n",
       "         9.9950e-01, 1.0000e+00, 7.6629e-01, 1.0161e-06],\n",
       "        [9.9999e-01, 9.0602e-01, 6.0630e-07, 8.8299e-01, 1.5902e-06, 1.0564e-01,\n",
       "         9.8729e-01, 1.0000e+00, 5.2210e-07, 1.6764e-05],\n",
       "        [9.1400e-01, 1.6265e-03, 4.0274e-01, 7.4920e-01, 8.9483e-01, 9.9995e-01,\n",
       "         3.9864e-01, 1.0000e+00, 7.5320e-04, 1.5814e-07],\n",
       "        [1.0000e+00, 2.0714e-07, 1.0000e+00, 9.9999e-01, 1.3811e-04, 9.0320e-01,\n",
       "         9.9821e-01, 1.0000e+00, 6.4186e-01, 9.0795e-06],\n",
       "        [9.8651e-01, 4.4307e-03, 9.8024e-01, 9.9984e-01, 2.1632e-01, 9.9862e-01,\n",
       "         2.0763e-01, 9.9955e-01, 9.9269e-01, 1.3721e-01],\n",
       "        [9.9780e-01, 1.9845e-01, 7.7646e-01, 5.6350e-01, 9.5962e-01, 2.0879e-01,\n",
       "         9.9999e-01, 1.0000e+00, 2.6249e-01, 2.3303e-04],\n",
       "        [9.9999e-01, 9.8206e-01, 9.9954e-01, 1.0000e+00, 1.7875e-02, 9.9959e-01,\n",
       "         9.9981e-01, 1.0000e+00, 2.0039e-04, 1.3255e-08],\n",
       "        [1.0000e+00, 8.7367e-01, 9.9997e-01, 9.8517e-01, 9.9807e-01, 7.1938e-01,\n",
       "         9.9997e-01, 1.0000e+00, 2.9285e-03, 2.4039e-03],\n",
       "        [9.9827e-01, 2.3217e-03, 9.9950e-01, 9.5156e-01, 1.5364e-02, 9.9866e-01,\n",
       "         9.9998e-01, 1.0000e+00, 9.9979e-01, 2.4577e-01],\n",
       "        [9.9990e-01, 3.8677e-05, 9.9970e-01, 9.9745e-01, 9.9340e-01, 5.2052e-01,\n",
       "         1.0000e+00, 1.0000e+00, 1.6661e-03, 2.6221e-10],\n",
       "        [9.9869e-01, 5.4678e-01, 9.9682e-01, 1.5861e-03, 1.6712e-04, 8.5924e-01,\n",
       "         2.3193e-01, 1.0000e+00, 5.3863e-03, 4.3658e-10],\n",
       "        [9.8694e-01, 6.0324e-01, 9.9873e-01, 9.9641e-01, 4.9477e-01, 1.4330e-01,\n",
       "         2.0766e-01, 1.0000e+00, 8.7646e-01, 1.2308e-05],\n",
       "        [1.0000e+00, 1.7914e-06, 1.0000e+00, 6.6652e-01, 9.9543e-01, 9.9722e-01,\n",
       "         9.9995e-01, 1.0000e+00, 9.4850e-01, 2.7477e-09],\n",
       "        [1.0000e+00, 8.8996e-03, 9.9951e-01, 9.4794e-01, 6.2340e-01, 3.2622e-02,\n",
       "         9.9999e-01, 1.0000e+00, 3.8340e-06, 1.3490e-04],\n",
       "        [1.0000e+00, 1.8852e-04, 9.9912e-01, 3.0384e-01, 8.4711e-02, 5.4018e-01,\n",
       "         9.9993e-01, 1.0000e+00, 1.1071e-05, 4.4904e-08],\n",
       "        [9.9991e-01, 8.1744e-03, 6.9560e-01, 9.9840e-01, 8.7509e-01, 4.5166e-02,\n",
       "         9.8421e-01, 9.9997e-01, 8.0409e-01, 4.0153e-05],\n",
       "        [1.0000e+00, 2.9701e-02, 9.9165e-01, 1.0000e+00, 4.6893e-01, 9.9855e-01,\n",
       "         2.0014e-02, 1.0000e+00, 6.9383e-01, 1.1462e-04],\n",
       "        [1.0000e+00, 5.6419e-04, 9.9515e-01, 9.9998e-01, 9.5010e-01, 5.1953e-03,\n",
       "         9.9839e-01, 1.0000e+00, 7.4955e-03, 1.0958e-06],\n",
       "        [9.9586e-01, 2.3221e-04, 1.0000e+00, 9.9970e-01, 6.5259e-02, 5.3423e-01,\n",
       "         9.9992e-01, 1.0000e+00, 5.2476e-01, 2.8457e-06],\n",
       "        [1.0000e+00, 3.7672e-07, 2.7535e-02, 3.0314e-01, 9.6231e-01, 9.1998e-01,\n",
       "         8.9950e-01, 9.9998e-01, 1.0868e-01, 1.7167e-03],\n",
       "        [9.9996e-01, 8.0480e-01, 9.9775e-01, 1.0000e+00, 1.1417e-04, 9.9984e-01,\n",
       "         9.9999e-01, 1.0000e+00, 7.2949e-05, 2.2400e-09],\n",
       "        [1.0000e+00, 1.2582e-02, 6.7738e-02, 1.0000e+00, 9.3145e-01, 9.6485e-01,\n",
       "         9.7761e-01, 1.0000e+00, 2.4823e-05, 1.6889e-04],\n",
       "        [1.0000e+00, 6.6621e-04, 1.0000e+00, 1.0000e+00, 1.5791e-02, 9.9326e-01,\n",
       "         4.5080e-01, 1.0000e+00, 4.5402e-02, 2.6542e-06],\n",
       "        [9.9999e-01, 9.9825e-01, 9.9819e-01, 9.9998e-01, 4.2275e-03, 9.9420e-01,\n",
       "         9.8338e-01, 1.0000e+00, 1.5757e-03, 5.6028e-08],\n",
       "        [1.0000e+00, 9.7882e-01, 9.9999e-01, 9.9922e-01, 8.9689e-01, 9.9232e-01,\n",
       "         9.9955e-01, 1.0000e+00, 3.1497e-02, 1.2483e-06],\n",
       "        [1.0000e+00, 2.0488e-05, 9.9875e-01, 9.9828e-01, 2.1046e-02, 9.9912e-01,\n",
       "         9.6801e-01, 1.0000e+00, 8.4518e-01, 1.0311e-05],\n",
       "        [9.9920e-01, 2.3826e-03, 1.0000e+00, 9.9894e-01, 4.7519e-01, 9.9974e-01,\n",
       "         1.3290e-01, 1.0000e+00, 9.1569e-05, 1.5584e-03],\n",
       "        [9.9989e-01, 1.4537e-02, 1.4747e-01, 9.9996e-01, 9.9603e-01, 9.9909e-01,\n",
       "         9.7907e-01, 9.9997e-01, 1.3965e-03, 1.7761e-07],\n",
       "        [9.9986e-01, 8.0732e-02, 9.5447e-01, 1.0000e+00, 3.7747e-03, 8.2774e-01,\n",
       "         9.9964e-01, 1.0000e+00, 2.6685e-06, 1.9304e-07],\n",
       "        [1.0000e+00, 8.3493e-05, 9.9989e-01, 9.9999e-01, 9.5779e-01, 9.6662e-01,\n",
       "         9.9991e-01, 9.9929e-01, 9.9814e-01, 5.2599e-08],\n",
       "        [1.0000e+00, 2.7657e-03, 1.0000e+00, 9.2805e-01, 1.0000e+00, 9.9956e-01,\n",
       "         9.9452e-01, 1.0000e+00, 2.1125e-03, 3.9033e-09],\n",
       "        [9.8835e-01, 2.7745e-08, 9.4303e-01, 7.5137e-03, 6.0369e-01, 9.9999e-01,\n",
       "         7.4845e-01, 9.9998e-01, 1.0000e+00, 1.1422e-06],\n",
       "        [9.9890e-01, 9.1177e-02, 9.9761e-01, 9.9983e-01, 9.4290e-06, 3.4085e-01,\n",
       "         9.9981e-01, 9.9998e-01, 3.2130e-05, 1.3734e-06],\n",
       "        [1.0000e+00, 2.1952e-02, 9.9991e-01, 9.9865e-01, 6.6236e-01, 9.2722e-01,\n",
       "         9.9996e-01, 9.9998e-01, 7.1798e-02, 9.5381e-05],\n",
       "        [1.0000e+00, 4.7631e-01, 1.0000e+00, 9.9997e-01, 3.9898e-01, 9.9965e-01,\n",
       "         9.9810e-01, 1.0000e+00, 5.2760e-02, 9.2318e-09]])"
      ]
     },
     "execution_count": 7,
     "metadata": {},
     "output_type": "execute_result"
    }
   ],
   "source": [
    "out"
   ]
  },
  {
   "cell_type": "markdown",
   "metadata": {},
   "source": [
    "Now we have 10 outputs for our network. We want to pass in an image to our network and get out a probability distribution over the classes that tells us the likely class(es) the image belongs to. Something that looks like this:\n",
    "<img src='assets/image_distribution.png' width=500px>\n",
    "\n",
    "Here we see that the probability for each class is roughly the same. This is representing an untrained network, it hasn't seen any data yet so it just returns a uniform distribution with equal probabilities for each class.\n",
    "\n",
    "To calculate this probability distribution, we often use the [**softmax** function](https://en.wikipedia.org/wiki/Softmax_function). Mathematically this looks like\n",
    "\n",
    "$$\n",
    "\\Large \\sigma(x_i) = \\cfrac{e^{x_i}}{\\sum_k^K{e^{x_k}}}\n",
    "$$\n",
    "\n",
    "What this does is squish each input $x_i$ between 0 and 1 and normalizes the values to give you a proper probability distribution where the probabilites sum up to one.\n",
    "\n",
    "> **Exercise:** Implement a function `softmax` that performs the softmax calculation and returns probability distributions for each example in the batch. Note that you'll need to pay attention to the shapes when doing this. If you have a tensor `a` with shape `(64, 10)` and a tensor `b` with shape `(64,)`, doing `a/b` will give you an error because PyTorch will try to do the division across the columns (called broadcasting) but you'll get a size mismatch. The way to think about this is for each of the 64 examples, you only want to divide by one value, the sum in the denominator. So you need `b` to have a shape of `(64, 1)`. This way PyTorch will divide the 10 values in each row of `a` by the one value in each row of `b`. Pay attention to how you take the sum as well. You'll need to define the `dim` keyword in `torch.sum`. Setting `dim=0` takes the sum across the rows while `dim=1` takes the sum across the columns."
   ]
  },
  {
   "cell_type": "code",
   "execution_count": 8,
   "metadata": {},
   "outputs": [
    {
     "name": "stdout",
     "output_type": "stream",
     "text": [
      "torch.Size([64, 10])\n",
      "tensor([1.0000, 1.0000, 1.0000, 1.0000, 1.0000, 1.0000, 1.0000, 1.0000, 1.0000,\n",
      "        1.0000, 1.0000, 1.0000, 1.0000, 1.0000, 1.0000, 1.0000, 1.0000, 1.0000,\n",
      "        1.0000, 1.0000, 1.0000, 1.0000, 1.0000, 1.0000, 1.0000, 1.0000, 1.0000,\n",
      "        1.0000, 1.0000, 1.0000, 1.0000, 1.0000, 1.0000, 1.0000, 1.0000, 1.0000,\n",
      "        1.0000, 1.0000, 1.0000, 1.0000, 1.0000, 1.0000, 1.0000, 1.0000, 1.0000,\n",
      "        1.0000, 1.0000, 1.0000, 1.0000, 1.0000, 1.0000, 1.0000, 1.0000, 1.0000,\n",
      "        1.0000, 1.0000, 1.0000, 1.0000, 1.0000, 1.0000, 1.0000, 1.0000, 1.0000,\n",
      "        1.0000])\n"
     ]
    }
   ],
   "source": [
    "def softmax(x):\n",
    "    return torch.exp(x)/torch.sum(torch.exp(x),dim=1).view(-1,1)\n",
    "\n",
    "# Here, out should be the output of the network in the previous excercise with shape (64,10)\n",
    "probabilities = softmax(out)\n",
    "\n",
    "# Does it have the right shape? Should be (64, 10)\n",
    "print(probabilities.shape)\n",
    "# Does it sum to 1?\n",
    "print(probabilities.sum(dim=1))"
   ]
  },
  {
   "cell_type": "markdown",
   "metadata": {},
   "source": [
    "## Building networks with PyTorch\n",
    "\n",
    "PyTorch provides a module `nn` that makes building networks much simpler. Here I'll show you how to build the same one as above with 784 inputs, 256 hidden units, 10 output units and a softmax output."
   ]
  },
  {
   "cell_type": "code",
   "execution_count": 9,
   "metadata": {},
   "outputs": [],
   "source": [
    "from torch import nn"
   ]
  },
  {
   "cell_type": "code",
   "execution_count": 11,
   "metadata": {},
   "outputs": [],
   "source": [
    "class Network(nn.Module):\n",
    "    def __init__(self):\n",
    "        super().__init__()\n",
    "        \n",
    "        # Inputs to hidden layer linear transformation\n",
    "        self.hidden = nn.Linear(784, 256)\n",
    "        # Output layer, 10 units - one for each digit\n",
    "        self.output = nn.Linear(256, 10)\n",
    "        \n",
    "        # Define sigmoid activation and softmax output \n",
    "        self.sigmoid = nn.Sigmoid()\n",
    "        self.softmax = nn.Softmax(dim=1)\n",
    "        \n",
    "    def forward(self, x):\n",
    "        # Pass the input tensor through each of our operations\n",
    "        x = self.hidden(x)\n",
    "        x = self.sigmoid(x)\n",
    "        x = self.output(x)\n",
    "        x = self.softmax(x)\n",
    "        \n",
    "        return x"
   ]
  },
  {
   "cell_type": "markdown",
   "metadata": {},
   "source": [
    "Let's go through this bit by bit.\n",
    "\n",
    "```python\n",
    "class Network(nn.Module):\n",
    "```\n",
    "\n",
    "Here we're inheriting from `nn.Module`. Combined with `super().__init__()` this creates a class that tracks the architecture and provides a lot of useful methods and attributes. It is mandatory to inherit from `nn.Module` when you're creating a class for your network. The name of the class itself can be anything.\n",
    "\n",
    "```python\n",
    "self.hidden = nn.Linear(784, 256)\n",
    "```\n",
    "\n",
    "This line creates a module for a linear transformation, $x\\mathbf{W} + b$, with 784 inputs and 256 outputs and assigns it to `self.hidden`. The module automatically creates the weight and bias tensors which we'll use in the `forward` method. You can access the weight and bias tensors once the network (`net`) is created with `net.hidden.weight` and `net.hidden.bias`.\n",
    "\n",
    "```python\n",
    "self.output = nn.Linear(256, 10)\n",
    "```\n",
    "\n",
    "Similarly, this creates another linear transformation with 256 inputs and 10 outputs.\n",
    "\n",
    "```python\n",
    "self.sigmoid = nn.Sigmoid()\n",
    "self.softmax = nn.Softmax(dim=1)\n",
    "```\n",
    "\n",
    "Here I defined operations for the sigmoid activation and softmax output. Setting `dim=1` in `nn.Softmax(dim=1)` calculates softmax across the columns.\n",
    "\n",
    "```python\n",
    "def forward(self, x):\n",
    "```\n",
    "\n",
    "PyTorch networks created with `nn.Module` must have a `forward` method defined. It takes in a tensor `x` and passes it through the operations you defined in the `__init__` method.\n",
    "\n",
    "```python\n",
    "x = self.hidden(x)\n",
    "x = self.sigmoid(x)\n",
    "x = self.output(x)\n",
    "x = self.softmax(x)\n",
    "```\n",
    "\n",
    "Here the input tensor `x` is passed through each operation and reassigned to `x`. We can see that the input tensor goes through the hidden layer, then a sigmoid function, then the output layer, and finally the softmax function. It doesn't matter what you name the variables here, as long as the inputs and outputs of the operations match the network architecture you want to build. The order in which you define things in the `__init__` method doesn't matter, but you'll need to sequence the operations correctly in the `forward` method.\n",
    "\n",
    "Now we can create a `Network` object."
   ]
  },
  {
   "cell_type": "code",
   "execution_count": 12,
   "metadata": {},
   "outputs": [
    {
     "data": {
      "text/plain": [
       "Network(\n",
       "  (hidden): Linear(in_features=784, out_features=256, bias=True)\n",
       "  (output): Linear(in_features=256, out_features=10, bias=True)\n",
       "  (sigmoid): Sigmoid()\n",
       "  (softmax): Softmax()\n",
       ")"
      ]
     },
     "execution_count": 12,
     "metadata": {},
     "output_type": "execute_result"
    }
   ],
   "source": [
    "# Create the network and look at it's text representation\n",
    "model = Network()\n",
    "model"
   ]
  },
  {
   "cell_type": "markdown",
   "metadata": {},
   "source": [
    "You can define the network somewhat more concisely and clearly using the `torch.nn.functional` module. This is the most common way you'll see networks defined as many operations are simple element-wise functions. We normally import this module as `F`, `import torch.nn.functional as F`."
   ]
  },
  {
   "cell_type": "code",
   "execution_count": 13,
   "metadata": {},
   "outputs": [],
   "source": [
    "import torch.nn.functional as F\n",
    "\n",
    "class Network(nn.Module):\n",
    "    def __init__(self):\n",
    "        super().__init__()\n",
    "        # Inputs to hidden layer linear transformation\n",
    "        self.hidden = nn.Linear(784, 256)\n",
    "        # Output layer, 10 units - one for each digit\n",
    "        self.output = nn.Linear(256, 10)\n",
    "        \n",
    "    def forward(self, x):\n",
    "        # Hidden layer with sigmoid activation\n",
    "        x = F.sigmoid(self.hidden(x))\n",
    "        # Output layer with softmax activation\n",
    "        x = F.softmax(self.output(x), dim=1)\n",
    "        \n",
    "        return x"
   ]
  },
  {
   "cell_type": "markdown",
   "metadata": {},
   "source": [
    "### Activation functions\n",
    "\n",
    "So far we've only been looking at the sigmoid activation function, but in general any function can be used as an activation function. The only requirement is that for a network to approximate a non-linear function, the activation functions must be non-linear. Here are a few more examples of common activation functions: Tanh (hyperbolic tangent), and ReLU (rectified linear unit).\n",
    "\n",
    "<img src=\"assets/activation.png\" width=700px>\n",
    "\n",
    "In practice, the ReLU function is used almost exclusively as the activation function for hidden layers."
   ]
  },
  {
   "cell_type": "markdown",
   "metadata": {},
   "source": [
    "### Your Turn to Build a Network\n",
    "\n",
    "<img src=\"assets/mlp_mnist.png\" width=600px>\n",
    "\n",
    "> **Exercise:** Create a network with 784 input units, a hidden layer with 128 units and a ReLU activation, then a hidden layer with 64 units and a ReLU activation, and finally an output layer with a softmax activation as shown above. You can use a ReLU activation with the `nn.ReLU` module or `F.relu` function.\n",
    "\n",
    "It's good practice to name your layers by their type of network, for instance 'fc' to represent a fully-connected layer. As you code your solution, use `fc1`, `fc2`, and `fc3` as your layer names."
   ]
  },
  {
   "cell_type": "code",
   "execution_count": 17,
   "metadata": {
    "scrolled": true
   },
   "outputs": [
    {
     "data": {
      "text/plain": [
       "Network(\n",
       "  (fc1): Linear(in_features=784, out_features=256, bias=True)\n",
       "  (fc2): Linear(in_features=256, out_features=64, bias=True)\n",
       "  (fc3): Linear(in_features=64, out_features=10, bias=True)\n",
       ")"
      ]
     },
     "execution_count": 17,
     "metadata": {},
     "output_type": "execute_result"
    }
   ],
   "source": [
    "## Your solution here\n",
    "import torch.nn.functional as F\n",
    "class Network(nn.Module):\n",
    "    def __init__(self):\n",
    "        super().__init__()\n",
    "        self.fc1 = nn.Linear(784,256)\n",
    "        self.fc2 = nn.Linear(256,64)\n",
    "        self.fc3 = nn.Linear(64,10)\n",
    "        \n",
    "    def forward(self, x):\n",
    "        x = self.fc1(x)\n",
    "        x = F.relu(x)\n",
    "        x = self.fc2(x)\n",
    "        x = F.relu(x)\n",
    "        x = self.fc3(x)\n",
    "        x = F.softmax(x, dim=1)\n",
    "        return x\n",
    "\n",
    "model = Network()\n",
    "model\n"
   ]
  },
  {
   "cell_type": "markdown",
   "metadata": {},
   "source": [
    "### Initializing weights and biases\n",
    "\n",
    "The weights and such are automatically initialized for you, but it's possible to customize how they are initialized. The weights and biases are tensors attached to the layer you defined, you can get them with `model.fc1.weight` for instance."
   ]
  },
  {
   "cell_type": "code",
   "execution_count": 18,
   "metadata": {},
   "outputs": [
    {
     "name": "stdout",
     "output_type": "stream",
     "text": [
      "Parameter containing:\n",
      "tensor([[ 3.2918e-02,  2.0331e-02, -2.2880e-02,  ..., -5.6222e-04,\n",
      "         -1.9933e-02,  1.7478e-02],\n",
      "        [ 2.3950e-02, -7.1023e-03, -1.0987e-02,  ..., -2.7296e-02,\n",
      "          1.0372e-02, -2.6338e-02],\n",
      "        [ 1.5960e-02,  1.3407e-03,  1.6042e-02,  ..., -8.5324e-03,\n",
      "         -1.2806e-02,  3.5482e-02],\n",
      "        ...,\n",
      "        [-1.4388e-02,  1.1008e-02, -1.2690e-02,  ...,  2.2836e-02,\n",
      "         -1.3696e-03, -2.6414e-02],\n",
      "        [-3.4970e-02, -1.3953e-02, -9.3584e-03,  ..., -2.2249e-02,\n",
      "         -3.1237e-05, -2.6662e-02],\n",
      "        [-1.2705e-02,  2.1729e-02, -3.3617e-02,  ..., -2.5419e-02,\n",
      "          1.5911e-02, -2.3320e-02]], requires_grad=True)\n",
      "Parameter containing:\n",
      "tensor([-1.8962e-02,  7.1048e-04, -3.1738e-02,  3.2228e-02, -1.9495e-02,\n",
      "        -2.0288e-02,  3.0893e-02,  1.2491e-02, -3.5447e-02,  5.8948e-03,\n",
      "         2.3987e-02, -9.0710e-03, -3.0394e-03,  3.2550e-02,  1.6987e-02,\n",
      "         2.8050e-02, -1.4269e-02,  3.2543e-02,  3.3750e-02, -3.4940e-02,\n",
      "        -1.3276e-02, -1.6254e-02, -2.2457e-02,  3.2904e-03,  7.9846e-03,\n",
      "        -3.2763e-02,  2.0394e-03,  2.3282e-02,  3.5278e-03,  9.7897e-04,\n",
      "         3.3245e-02,  1.0305e-02,  8.3688e-03, -8.4569e-03, -2.1376e-02,\n",
      "        -1.9162e-02,  2.8315e-02,  5.8325e-03, -2.5094e-02,  1.1647e-02,\n",
      "         1.8134e-02, -2.4489e-02, -3.2657e-02, -2.6037e-02, -5.4063e-03,\n",
      "        -3.0271e-02, -2.1309e-02, -2.9212e-02, -2.0737e-02,  2.3575e-02,\n",
      "         2.0415e-02,  1.9940e-02, -2.0493e-02,  9.9222e-04, -2.6461e-03,\n",
      "        -1.5356e-02,  1.2359e-03, -3.4881e-02, -1.9857e-02,  4.5623e-03,\n",
      "        -2.7582e-02,  1.3169e-02, -1.8816e-02,  3.2018e-02, -1.9686e-02,\n",
      "        -2.4948e-02,  2.7534e-02,  3.3738e-03,  7.6792e-03, -1.0303e-02,\n",
      "         2.7393e-02,  3.0791e-02, -1.3574e-02, -1.9343e-02,  6.8494e-03,\n",
      "        -2.6467e-02,  2.6971e-02,  2.6373e-02, -2.7375e-02, -7.0422e-03,\n",
      "        -9.3483e-03,  2.8686e-02, -3.0176e-02,  7.2985e-03,  2.1161e-02,\n",
      "         2.6133e-02,  1.7823e-02,  2.0221e-02, -1.9376e-02,  2.3551e-02,\n",
      "         6.0338e-03, -2.9561e-02,  2.9417e-02,  5.7299e-03,  2.5538e-04,\n",
      "         2.2745e-02, -5.1159e-03, -3.0731e-02, -2.4740e-02,  3.2940e-02,\n",
      "         2.0549e-02,  8.7441e-03,  1.3294e-02, -1.4360e-03,  2.5269e-02,\n",
      "         2.0453e-03,  1.9853e-02,  3.4727e-02, -2.8683e-02, -3.8988e-03,\n",
      "        -8.5834e-03,  2.7953e-02,  1.8947e-02, -9.3442e-03, -3.6236e-03,\n",
      "        -3.4803e-02, -1.6745e-02,  1.0003e-02, -8.2784e-03, -2.3258e-02,\n",
      "         3.3825e-02, -2.9373e-02, -5.4358e-03,  1.2458e-02,  1.1944e-02,\n",
      "        -4.3241e-03, -2.6886e-02, -2.9341e-02, -3.3993e-02, -3.2152e-02,\n",
      "        -3.2832e-02, -1.3785e-02, -3.2166e-02, -2.4977e-02,  1.9696e-02,\n",
      "         3.0818e-04,  2.6258e-02, -2.2773e-02,  1.3322e-02,  2.8874e-02,\n",
      "         8.5841e-03,  2.6395e-02,  2.3159e-02,  1.2808e-02,  8.9880e-03,\n",
      "         2.7483e-02, -3.0613e-02,  3.0533e-02,  1.5445e-02, -2.9451e-02,\n",
      "        -5.0132e-03,  1.5959e-02,  1.6037e-03,  1.9998e-02,  2.0282e-02,\n",
      "        -1.1800e-02,  3.5900e-03, -2.9962e-02, -5.2598e-04, -2.3454e-05,\n",
      "        -2.4023e-02,  3.5315e-02, -2.9189e-02,  7.5543e-03, -3.0642e-02,\n",
      "        -1.8485e-03,  2.1776e-02, -1.7009e-02,  3.3904e-05, -1.4536e-02,\n",
      "         1.2324e-02,  1.6382e-02,  2.6643e-02,  2.6550e-02,  1.7451e-02,\n",
      "         1.2894e-02, -2.0195e-02, -9.7784e-03, -3.0844e-03, -3.4246e-04,\n",
      "        -2.8351e-02,  3.5180e-02, -1.7010e-02,  1.7972e-02,  2.2025e-03,\n",
      "         2.5300e-03,  1.1037e-02, -3.4472e-02, -1.6102e-02,  3.0650e-02,\n",
      "        -2.6000e-02, -2.9648e-02,  3.4922e-02,  2.6556e-02,  1.1703e-02,\n",
      "         1.8168e-03,  9.8618e-03,  2.8836e-02,  2.3651e-02,  2.6103e-02,\n",
      "         2.2594e-02, -1.1400e-02,  3.5666e-02,  1.3444e-02,  1.7389e-02,\n",
      "         5.1958e-03,  3.4583e-02, -3.1309e-02,  1.3551e-02, -1.6825e-02,\n",
      "         7.6372e-03, -3.7157e-03,  3.3284e-02,  2.5012e-02, -2.9605e-04,\n",
      "         1.7943e-02, -3.3087e-02, -3.3277e-02,  1.8843e-02,  2.0853e-02,\n",
      "        -2.5966e-02, -3.1264e-02,  3.1020e-02, -3.3113e-02,  1.6995e-02,\n",
      "        -9.1292e-03, -1.1449e-03, -4.2885e-03, -3.4416e-02,  3.4675e-02,\n",
      "         3.2275e-02,  2.7936e-03,  1.2917e-02,  7.4277e-03,  2.7285e-02,\n",
      "        -3.1048e-02,  3.6121e-03, -3.3894e-02,  4.5395e-04,  1.3535e-02,\n",
      "        -1.2742e-02, -8.9131e-03,  1.8655e-02,  1.8063e-02, -2.5932e-02,\n",
      "        -2.9054e-02, -6.6454e-03,  2.6423e-02, -1.1464e-02,  1.5373e-02,\n",
      "         2.5596e-02,  3.3185e-02, -1.1574e-02, -5.2844e-03, -1.7729e-02,\n",
      "         1.5101e-02], requires_grad=True)\n"
     ]
    }
   ],
   "source": [
    "print(model.fc1.weight)\n",
    "print(model.fc1.bias)"
   ]
  },
  {
   "cell_type": "markdown",
   "metadata": {},
   "source": [
    "For custom initialization, we want to modify these tensors in place. These are actually autograd *Variables*, so we need to get back the actual tensors with `model.fc1.weight.data`. Once we have the tensors, we can fill them with zeros (for biases) or random normal values."
   ]
  },
  {
   "cell_type": "code",
   "execution_count": 19,
   "metadata": {},
   "outputs": [
    {
     "data": {
      "text/plain": [
       "tensor([0., 0., 0., 0., 0., 0., 0., 0., 0., 0., 0., 0., 0., 0., 0., 0., 0., 0., 0., 0., 0., 0., 0., 0.,\n",
       "        0., 0., 0., 0., 0., 0., 0., 0., 0., 0., 0., 0., 0., 0., 0., 0., 0., 0., 0., 0., 0., 0., 0., 0.,\n",
       "        0., 0., 0., 0., 0., 0., 0., 0., 0., 0., 0., 0., 0., 0., 0., 0., 0., 0., 0., 0., 0., 0., 0., 0.,\n",
       "        0., 0., 0., 0., 0., 0., 0., 0., 0., 0., 0., 0., 0., 0., 0., 0., 0., 0., 0., 0., 0., 0., 0., 0.,\n",
       "        0., 0., 0., 0., 0., 0., 0., 0., 0., 0., 0., 0., 0., 0., 0., 0., 0., 0., 0., 0., 0., 0., 0., 0.,\n",
       "        0., 0., 0., 0., 0., 0., 0., 0., 0., 0., 0., 0., 0., 0., 0., 0., 0., 0., 0., 0., 0., 0., 0., 0.,\n",
       "        0., 0., 0., 0., 0., 0., 0., 0., 0., 0., 0., 0., 0., 0., 0., 0., 0., 0., 0., 0., 0., 0., 0., 0.,\n",
       "        0., 0., 0., 0., 0., 0., 0., 0., 0., 0., 0., 0., 0., 0., 0., 0., 0., 0., 0., 0., 0., 0., 0., 0.,\n",
       "        0., 0., 0., 0., 0., 0., 0., 0., 0., 0., 0., 0., 0., 0., 0., 0., 0., 0., 0., 0., 0., 0., 0., 0.,\n",
       "        0., 0., 0., 0., 0., 0., 0., 0., 0., 0., 0., 0., 0., 0., 0., 0., 0., 0., 0., 0., 0., 0., 0., 0.,\n",
       "        0., 0., 0., 0., 0., 0., 0., 0., 0., 0., 0., 0., 0., 0., 0., 0.])"
      ]
     },
     "execution_count": 19,
     "metadata": {},
     "output_type": "execute_result"
    }
   ],
   "source": [
    "# Set biases to all zeros\n",
    "model.fc1.bias.data.fill_(0)"
   ]
  },
  {
   "cell_type": "code",
   "execution_count": 20,
   "metadata": {},
   "outputs": [
    {
     "data": {
      "text/plain": [
       "tensor([[ 0.0006,  0.0149,  0.0045,  ...,  0.0018, -0.0037, -0.0051],\n",
       "        [-0.0083, -0.0081, -0.0059,  ..., -0.0016, -0.0184,  0.0172],\n",
       "        [-0.0046,  0.0037, -0.0035,  ..., -0.0183,  0.0140, -0.0061],\n",
       "        ...,\n",
       "        [-0.0041, -0.0022, -0.0008,  ..., -0.0094, -0.0006, -0.0031],\n",
       "        [ 0.0013,  0.0082, -0.0065,  ..., -0.0119, -0.0018, -0.0319],\n",
       "        [ 0.0009, -0.0059, -0.0018,  ..., -0.0035,  0.0223, -0.0045]])"
      ]
     },
     "execution_count": 20,
     "metadata": {},
     "output_type": "execute_result"
    }
   ],
   "source": [
    "# sample from random normal with standard dev = 0.01\n",
    "model.fc1.weight.data.normal_(std=0.01)"
   ]
  },
  {
   "cell_type": "markdown",
   "metadata": {},
   "source": [
    "### Forward pass\n",
    "\n",
    "Now that we have a network, let's see what happens when we pass in an image."
   ]
  },
  {
   "cell_type": "code",
   "execution_count": 21,
   "metadata": {
    "scrolled": true
   },
   "outputs": [
    {
     "data": {
      "image/png": "[encoded data removed]",
      "text/plain": [
       "<Figure size 432x648 with 2 Axes>"
      ]
     },
     "metadata": {
      "image/png": {
       "height": 226,
       "width": 423
      },
      "needs_background": "light"
     },
     "output_type": "display_data"
    }
   ],
   "source": [
    "# Grab some data \n",
    "dataiter = iter(trainloader)\n",
    "images, labels = dataiter.next()\n",
    "\n",
    "# Resize images into a 1D vector, new shape is (batch size, color channels, image pixels) \n",
    "images.resize_(64, 1, 784)\n",
    "# or images.resize_(images.shape[0], 1, 784) to automatically get batch size\n",
    "\n",
    "# Forward pass through the network\n",
    "img_idx = 0\n",
    "ps = model.forward(images[img_idx,:])\n",
    "\n",
    "img = images[img_idx]\n",
    "helper.view_classify(img.view(1, 28, 28), ps)"
   ]
  },
  {
   "cell_type": "markdown",
   "metadata": {},
   "source": [
    "As you can see above, our network has basically no idea what this digit is. It's because we haven't trained it yet, all the weights are random!\n",
    "\n",
    "### Using `nn.Sequential`\n",
    "\n",
    "PyTorch provides a convenient way to build networks like this where a tensor is passed sequentially through operations, `nn.Sequential` ([documentation](https://pytorch.org/docs/master/nn.html#torch.nn.Sequential)). Using this to build the equivalent network:"
   ]
  },
  {
   "cell_type": "code",
   "execution_count": 22,
   "metadata": {},
   "outputs": [
    {
     "name": "stdout",
     "output_type": "stream",
     "text": [
      "Sequential(\n",
      "  (0): Linear(in_features=784, out_features=128, bias=True)\n",
      "  (1): ReLU()\n",
      "  (2): Linear(in_features=128, out_features=64, bias=True)\n",
      "  (3): ReLU()\n",
      "  (4): Linear(in_features=64, out_features=10, bias=True)\n",
      "  (5): Softmax()\n",
      ")\n"
     ]
    },
    {
     "data": {
      "image/png": "[encoded data removed]",
      "text/plain": [
       "<Figure size 432x648 with 2 Axes>"
      ]
     },
     "metadata": {
      "image/png": {
       "height": 226,
       "width": 423
      },
      "needs_background": "light"
     },
     "output_type": "display_data"
    }
   ],
   "source": [
    "# Hyperparameters for our network\n",
    "input_size = 784\n",
    "hidden_sizes = [128, 64]\n",
    "output_size = 10\n",
    "\n",
    "# Build a feed-forward network\n",
    "model = nn.Sequential(nn.Linear(input_size, hidden_sizes[0]),\n",
    "                      nn.ReLU(),\n",
    "                      nn.Linear(hidden_sizes[0], hidden_sizes[1]),\n",
    "                      nn.ReLU(),\n",
    "                      nn.Linear(hidden_sizes[1], output_size),\n",
    "                      nn.Softmax(dim=1))\n",
    "print(model)\n",
    "\n",
    "# Forward pass through the network and display output\n",
    "images, labels = next(iter(trainloader))\n",
    "images.resize_(images.shape[0], 1, 784)\n",
    "ps = model.forward(images[0,:])\n",
    "helper.view_classify(images[0].view(1, 28, 28), ps)"
   ]
  },
  {
   "cell_type": "markdown",
   "metadata": {},
   "source": [
    "Here our model is the same as before: 784 input units, a hidden layer with 128 units, ReLU activation, 64 unit hidden layer, another ReLU, then the output layer with 10 units, and the softmax output.\n",
    "\n",
    "The operations are available by passing in the appropriate index. For example, if you want to get first Linear operation and look at the weights, you'd use `model[0]`."
   ]
  },
  {
   "cell_type": "code",
   "execution_count": 23,
   "metadata": {},
   "outputs": [
    {
     "name": "stdout",
     "output_type": "stream",
     "text": [
      "Linear(in_features=784, out_features=128, bias=True)\n"
     ]
    },
    {
     "data": {
      "text/plain": [
       "Parameter containing:\n",
       "tensor([[ 0.0217,  0.0262, -0.0189,  ...,  0.0077,  0.0175,  0.0294],\n",
       "        [-0.0054,  0.0084, -0.0106,  ..., -0.0180, -0.0185,  0.0152],\n",
       "        [-0.0116,  0.0100, -0.0191,  ...,  0.0095, -0.0346, -0.0282],\n",
       "        ...,\n",
       "        [-0.0119, -0.0023, -0.0207,  ..., -0.0168, -0.0335, -0.0283],\n",
       "        [ 0.0310,  0.0045,  0.0241,  ...,  0.0291,  0.0057, -0.0203],\n",
       "        [ 0.0041, -0.0268, -0.0172,  ...,  0.0351,  0.0094,  0.0330]],\n",
       "       requires_grad=True)"
      ]
     },
     "execution_count": 23,
     "metadata": {},
     "output_type": "execute_result"
    }
   ],
   "source": [
    "print(model[0])\n",
    "model[0].weight"
   ]
  },
  {
   "cell_type": "markdown",
   "metadata": {},
   "source": [
    "You can also pass in an `OrderedDict` to name the individual layers and operations, instead of using incremental integers. Note that dictionary keys must be unique, so _each operation must have a different name_."
   ]
  },
  {
   "cell_type": "code",
   "execution_count": 24,
   "metadata": {},
   "outputs": [
    {
     "data": {
      "text/plain": [
       "Sequential(\n",
       "  (fc1): Linear(in_features=784, out_features=128, bias=True)\n",
       "  (relu1): ReLU()\n",
       "  (fc2): Linear(in_features=128, out_features=64, bias=True)\n",
       "  (relu2): ReLU()\n",
       "  (output): Linear(in_features=64, out_features=10, bias=True)\n",
       "  (softmax): Softmax()\n",
       ")"
      ]
     },
     "execution_count": 24,
     "metadata": {},
     "output_type": "execute_result"
    }
   ],
   "source": [
    "from collections import OrderedDict\n",
    "model = nn.Sequential(OrderedDict([\n",
    "                      ('fc1', nn.Linear(input_size, hidden_sizes[0])),\n",
    "                      ('relu1', nn.ReLU()),\n",
    "                      ('fc2', nn.Linear(hidden_sizes[0], hidden_sizes[1])),\n",
    "                      ('relu2', nn.ReLU()),\n",
    "                      ('output', nn.Linear(hidden_sizes[1], output_size)),\n",
    "                      ('softmax', nn.Softmax(dim=1))]))\n",
    "model"
   ]
  },
  {
   "cell_type": "markdown",
   "metadata": {},
   "source": [
    "Now you can access layers either by integer or the name"
   ]
  },
  {
   "cell_type": "code",
   "execution_count": 25,
   "metadata": {},
   "outputs": [
    {
     "name": "stdout",
     "output_type": "stream",
     "text": [
      "Linear(in_features=784, out_features=128, bias=True)\n",
      "Linear(in_features=784, out_features=128, bias=True)\n"
     ]
    }
   ],
   "source": [
    "print(model[0])\n",
    "print(model.fc1)"
   ]
  },
  {
   "cell_type": "markdown",
   "metadata": {},
   "source": [
    "In the next notebook, we'll see how we can train a neural network to accuractly predict the numbers appearing in the MNIST images."
   ]
  }
 ],
 "metadata": {
  "kernelspec": {
   "display_name": "Python 3",
   "language": "python",
   "name": "python3"
  },
  "language_info": {
   "codemirror_mode": {
    "name": "ipython",
    "version": 3
   },
   "file_extension": ".py",
   "mimetype": "text/x-python",
   "name": "python",
   "nbconvert_exporter": "python",
   "pygments_lexer": "ipython3",
   "version": "3.7.2"
  }
 },
 "nbformat": 4,
 "nbformat_minor": 2
}
