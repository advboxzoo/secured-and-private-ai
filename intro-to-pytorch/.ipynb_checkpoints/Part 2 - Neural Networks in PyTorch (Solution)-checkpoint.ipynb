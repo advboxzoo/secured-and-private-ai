{
 "cells": [
  {
   "cell_type": "markdown",
   "metadata": {},
   "source": [
    "# Neural networks with PyTorch\n",
    "\n",
    "Deep learning networks tend to be massive with dozens or hundreds of layers, that's where the term \"deep\" comes from. You can build one of these deep networks using only weight matrices as we did in the previous notebook, but in general it's very cumbersome and difficult to implement. PyTorch has a nice module `nn` that provides a nice way to efficiently build large neural networks."
   ]
  },
  {
   "cell_type": "code",
   "execution_count": 1,
   "metadata": {},
   "outputs": [],
   "source": [
    "# Import necessary packages\n",
    "\n",
    "%matplotlib inline\n",
    "%config InlineBackend.figure_format = 'retina'\n",
    "\n",
    "import numpy as np\n",
    "import torch\n",
    "\n",
    "import helper\n",
    "\n",
    "import matplotlib.pyplot as plt"
   ]
  },
  {
   "cell_type": "markdown",
   "metadata": {},
   "source": [
    "\n",
    "Now we're going to build a larger network that can solve a (formerly) difficult problem, identifying text in an image. Here we'll use the MNIST dataset which consists of greyscale handwritten digits. Each image is 28x28 pixels, you can see a sample below\n",
    "\n",
    "<img src='assets/mnist.png'>\n",
    "\n",
    "Our goal is to build a neural network that can take one of these images and predict the digit in the image.\n",
    "\n",
    "First up, we need to get our dataset. This is provided through the `torchvision` package. The code below will download the MNIST dataset, then create training and test datasets for us. Don't worry too much about the details here, you'll learn more about this later."
   ]
  },
  {
   "cell_type": "code",
   "execution_count": 2,
   "metadata": {},
   "outputs": [],
   "source": [
    "### Run this cell\n",
    "\n",
    "from torchvision import datasets, transforms\n",
    "\n",
    "# Define a transform to normalize the data\n",
    "transform = transforms.Compose([transforms.ToTensor(),\n",
    "                              transforms.Normalize((0.5,), (0.5,)),\n",
    "                              ])\n",
    "# Download and load the training data\n",
    "trainset = datasets.MNIST('~/.pytorch/MNIST_data/', download=True, train=True, transform=transform)\n",
    "trainloader = torch.utils.data.DataLoader(trainset, batch_size=64, shuffle=True)"
   ]
  },
  {
   "cell_type": "markdown",
   "metadata": {},
   "source": [
    "We have the training data loaded into `trainloader` and we make that an iterator with `iter(trainloader)`. Later, we'll use this to loop through the dataset for training, like\n",
    "\n",
    "```python\n",
    "for image, label in trainloader:\n",
    "    ## do things with images and labels\n",
    "```\n",
    "\n",
    "You'll notice I created the `trainloader` with a batch size of 64, and `shuffle=True`. The batch size is the number of images we get in one iteration from the data loader and pass through our network, often called a *batch*. And `shuffle=True` tells it to shuffle the dataset every time we start going through the data loader again. But here I'm just grabbing the first batch so we can check out the data. We can see below that `images` is just a tensor with size `(64, 1, 28, 28)`. So, 64 images per batch, 1 color channel, and 28x28 images."
   ]
  },
  {
   "cell_type": "code",
   "execution_count": 3,
   "metadata": {},
   "outputs": [
    {
     "name": "stdout",
     "output_type": "stream",
     "text": [
      "<class 'torch.Tensor'>\n",
      "torch.Size([64, 1, 28, 28])\n",
      "torch.Size([64])\n"
     ]
    }
   ],
   "source": [
    "dataiter = iter(trainloader)\n",
    "images, labels = dataiter.next()\n",
    "print(type(images))\n",
    "print(images.shape)\n",
    "print(labels.shape)"
   ]
  },
  {
   "cell_type": "markdown",
   "metadata": {},
   "source": [
    "This is what one of the images looks like. "
   ]
  },
  {
   "cell_type": "code",
   "execution_count": 4,
   "metadata": {},
   "outputs": [
    {
     "data": {
      "image/png": "[encoded data removed]",
      "text/plain": [
       "<Figure size 432x288 with 1 Axes>"
      ]
     },
     "metadata": {
      "image/png": {
       "height": 250,
       "width": 253
      },
      "needs_background": "light"
     },
     "output_type": "display_data"
    }
   ],
   "source": [
    "plt.imshow(images[1].numpy().squeeze(), cmap='Greys_r');"
   ]
  },
  {
   "cell_type": "markdown",
   "metadata": {},
   "source": [
    "First, let's try to build a simple network for this dataset using weight matrices and matrix multiplications. Then, we'll see how to do it using PyTorch's `nn` module which provides a much more convenient and powerful method for defining network architectures.\n",
    "\n",
    "The networks you've seen so far are called *fully-connected* or *dense* networks. Each unit in one layer is connected to each unit in the next layer. In fully-connected networks, the input to each layer must be a one-dimensional vector (which can be stacked into a 2D tensor as a batch of multiple examples). However, our images are 28x28 2D tensors, so we need to convert them into 1D vectors. Thinking about sizes, we need to convert the batch of images with shape `(64, 1, 28, 28)` to a have a shape of `(64, 784)`, 784 is 28 times 28. This is typically called *flattening*, we flattened the 2D images into 1D vectors.\n",
    "\n",
    "Previously you built a network with one output unit. Here we need 10 output units, one for each digit. We want our network to predict the digit shown in an image, so what we'll do is calculate probabilities that the image is of any one digit or class. This ends up being a discrete probability distribution over the classes (digits) that tells us the most likely class for the image. That means we need 10 output units for the 10 classes (digits). We'll see how to convert the network output into a probability distribution next.\n",
    "\n",
    "> **Exercise:** Flatten the batch of images `images`. Then build a multi-layer network with 784 input units, 256 hidden units, and 10 output units using random tensors for the weights and biases. For now, use a sigmoid activation for the hidden layer. Leave the output layer without an activation, we'll add one that gives us a probability distribution next."
   ]
  },
  {
   "cell_type": "code",
   "execution_count": 5,
   "metadata": {},
   "outputs": [],
   "source": [
    "## Solution\n",
    "def activation(x):\n",
    "    return 1/(1+torch.exp(-x))\n",
    "\n",
    "# Flatten the input images\n",
    "inputs = images.view(images.shape[0], -1)\n",
    "\n",
    "# Create parameters\n",
    "w1 = torch.randn(784, 256)\n",
    "b1 = torch.randn(256)\n",
    "\n",
    "w2 = torch.randn(256, 10)\n",
    "b2 = torch.randn(10)\n",
    "\n",
    "h = activation(torch.mm(inputs, w1) + b1)\n",
    "\n",
    "out = torch.mm(h, w2) + b2"
   ]
  },
  {
   "cell_type": "code",
   "execution_count": 6,
   "metadata": {},
   "outputs": [
    {
     "data": {
      "text/plain": [
       "tensor([[ 1.1080e+00, -2.2196e+01, -2.0038e+00, -2.3908e+01, -8.1151e+00,\n",
       "         -7.8169e+00,  1.5597e+01,  1.0071e+01,  3.4863e+00, -7.1703e+00],\n",
       "        [-3.4202e+00, -1.9562e+01,  9.1604e+00, -1.7422e+01,  4.7244e-01,\n",
       "         -1.0760e+01,  4.7982e+00, -4.0533e+00,  1.6607e+00, -1.2340e+01],\n",
       "        [ 1.0688e+01, -1.9829e+01, -9.6024e+00, -1.4095e+01, -1.0733e+01,\n",
       "         -7.1877e+00,  1.2210e+01,  1.3023e+01,  4.9787e+00, -2.5232e+01],\n",
       "        [-7.5143e+00, -1.7478e+01,  1.1731e+01, -1.7641e+01, -9.4687e+00,\n",
       "         -5.5066e+00,  7.4478e+00,  9.5310e-01,  3.9388e+00, -1.4961e+01],\n",
       "        [-6.0539e+00, -1.5818e+01,  2.0597e+00, -6.7400e+00, -4.8377e+00,\n",
       "         -4.1527e+00,  1.7636e+00,  2.2674e+01,  3.4245e+00, -5.1643e+00],\n",
       "        [ 9.4951e+00, -2.3538e+01, -2.3932e+00, -1.6153e+01, -1.2145e+01,\n",
       "          1.3656e+00,  7.2324e+00,  1.1716e+01,  1.0007e+01, -9.4860e+00],\n",
       "        [-4.8123e+00, -1.2625e+01,  1.1494e+00, -1.3296e+01, -1.2302e+01,\n",
       "         -1.4050e+01,  9.3944e+00, -4.4346e-02,  4.3499e+00, -1.2892e+01],\n",
       "        [ 1.1393e+01, -1.7979e+01,  3.0130e+00, -1.2560e+01, -9.0003e+00,\n",
       "         -1.5442e+01,  1.3528e+01,  8.7822e+00,  2.2157e+00, -1.6141e+01],\n",
       "        [ 4.6898e+00, -1.9310e+01,  3.7698e+00, -2.4712e+01, -1.2577e+01,\n",
       "         -1.1839e+00,  9.9656e+00,  1.8811e+00,  8.6624e+00, -1.1724e+01],\n",
       "        [ 7.6767e+00, -1.9963e+01,  3.3596e+00, -2.0305e+01, -7.2877e+00,\n",
       "         -1.3820e+01,  2.3372e+00, -6.1556e-01,  9.5155e+00, -4.9704e+00],\n",
       "        [-8.9718e-02, -2.0204e+01,  1.4690e+00, -1.3317e+01,  1.8278e+00,\n",
       "         -1.2237e+01,  1.0073e+01,  1.6030e+01,  3.5516e+00, -1.3270e+01],\n",
       "        [ 1.3529e+01, -2.3343e+01,  5.3884e+00, -2.1941e+01, -7.7621e+00,\n",
       "         -7.2390e+00,  1.0141e+01,  6.2709e+00, -3.0724e-01, -4.3613e+00],\n",
       "        [ 6.3762e-01, -2.1136e+01,  1.3729e+01, -2.2825e+01,  8.0104e+00,\n",
       "         -5.8461e+00,  1.5142e+01,  4.5895e+00, -1.7189e+00, -2.1523e+01],\n",
       "        [ 2.6584e+00, -2.4160e+01,  1.8187e+01, -1.4166e+01, -1.0463e+01,\n",
       "         -1.0858e+01,  1.6133e+01,  3.3620e+00,  9.5114e+00, -1.2059e+01],\n",
       "        [-2.6756e+00, -1.5188e+01,  8.4253e+00, -1.9064e+01, -1.0190e+01,\n",
       "         -1.0136e+01, -1.6457e+00,  1.1981e+00,  1.6023e+00, -5.3856e+00],\n",
       "        [-5.3285e+00, -1.9327e+01, -1.8204e+00, -2.0629e+01, -9.3803e+00,\n",
       "         -8.3076e+00,  1.2751e+01,  7.8363e+00,  4.6600e+00, -8.3791e-01],\n",
       "        [ 2.5637e+00, -2.0065e+01, -1.9293e+00, -1.5883e+01, -1.0109e+01,\n",
       "         -1.5685e+00,  9.9900e+00,  1.6094e+01,  7.2265e+00, -1.7445e+01],\n",
       "        [-4.3645e+00, -1.6629e+01,  8.8169e+00, -2.4353e+01, -1.5049e+00,\n",
       "         -1.6370e+01,  1.7978e+01,  5.0413e+00,  5.8171e+00, -1.3640e+01],\n",
       "        [ 8.5128e+00, -1.6408e+01,  2.6525e+00, -1.8080e+01, -4.3196e+00,\n",
       "          8.7887e-01,  1.3012e+01,  8.4752e+00,  5.1222e+00, -7.6176e+00],\n",
       "        [ 7.3916e+00, -2.8363e+01,  8.5434e+00, -1.5016e+01, -8.7307e+00,\n",
       "         -1.2809e+01,  3.0079e+00,  6.1013e+00, -2.8566e-01, -1.4799e+01],\n",
       "        [ 1.4090e+01, -2.3831e+01,  3.1165e+00, -8.0203e+00, -1.1557e+01,\n",
       "         -1.2188e+01, -1.6266e+00,  3.0968e+00,  2.5678e-01, -1.3411e+01],\n",
       "        [ 6.7326e+00, -1.0990e+01,  6.8149e+00, -1.9483e+01, -8.3294e-02,\n",
       "         -1.9450e+01,  1.2440e+01,  3.1925e+00,  1.3293e+01, -1.6758e+01],\n",
       "        [ 4.0115e+00, -3.0966e+01,  1.1279e+01, -1.4174e+01,  9.9633e-01,\n",
       "         -3.1134e+00, -2.6786e-01,  1.0813e+00,  6.5259e+00, -6.9800e+00],\n",
       "        [ 1.3928e+01, -2.6905e+01,  8.0792e+00, -1.1857e+01, -1.2098e+01,\n",
       "         -1.2295e+01, -6.4016e+00,  7.0980e-01, -1.5110e+00, -1.1713e+01],\n",
       "        [-3.9729e+00, -1.1942e+01,  3.6740e+00, -2.1541e+01, -1.1234e+00,\n",
       "         -6.1564e+00,  1.1442e+01,  1.1955e+01,  7.2386e+00, -1.9166e+00],\n",
       "        [ 1.4470e+01, -2.6950e+01,  6.8162e+00, -8.5843e+00, -1.3136e+01,\n",
       "         -1.4391e+01, -2.3351e+00,  5.2661e+00, -4.1337e+00, -1.0306e+01],\n",
       "        [ 9.4079e+00, -1.6818e+01,  3.2301e+00, -3.9924e+00, -3.1446e+00,\n",
       "         -6.0502e+00,  1.3322e+01,  1.2171e+01, -1.3933e+00, -1.3162e+01],\n",
       "        [ 4.2858e+00, -1.6933e+01, -1.3027e-01, -1.7632e+01, -5.1760e+00,\n",
       "         -9.1001e+00,  1.5491e+01,  1.0240e+01,  4.3167e+00, -1.3934e+01],\n",
       "        [ 1.7462e+01, -1.7904e+01,  3.4862e+00, -1.6019e+01, -9.6410e+00,\n",
       "          3.1783e+00,  9.5064e+00,  7.6219e+00,  3.9086e+00, -1.7196e+01],\n",
       "        [-1.6510e+00, -1.0411e+01,  6.8606e+00, -6.5484e+00,  1.3844e+00,\n",
       "         -9.2637e+00,  2.5008e+00,  1.6601e+01,  1.4293e+00, -4.8820e+00],\n",
       "        [ 8.6795e+00, -2.4249e+01,  8.7450e+00, -1.9848e+01,  9.9593e-02,\n",
       "         -1.6170e+01,  1.9839e+01, -6.3015e+00,  5.9469e+00, -2.2713e+01],\n",
       "        [-6.1383e+00, -1.8829e+01, -4.8273e+00, -1.8702e+01, -2.7313e+00,\n",
       "         -3.1685e+00,  1.0184e+01,  1.6283e+01,  1.4461e+01, -9.3816e+00],\n",
       "        [ 1.1807e+01, -2.4462e+01,  8.3758e+00, -6.4126e+00, -1.0201e+01,\n",
       "         -6.8250e+00,  1.0119e+00,  1.0041e+00,  3.1685e+00, -1.5241e+01],\n",
       "        [ 8.0609e+00, -2.3725e+01,  1.0252e+01, -1.7048e+01, -2.9038e+00,\n",
       "         -4.3186e-01, -1.3320e+00, -3.4045e-01,  5.1633e+00,  4.0437e+00],\n",
       "        [ 1.1947e+00, -1.6345e+01,  1.4280e+01, -7.8356e+00,  2.6036e+00,\n",
       "         -1.4501e+01,  1.4171e+01,  1.2321e+01,  6.2472e+00, -7.4099e+00],\n",
       "        [ 4.7113e+00, -2.1863e+01,  7.8203e+00, -1.6895e+01, -6.8181e+00,\n",
       "         -4.0797e-02,  5.8373e+00,  2.4119e+00,  1.3246e+00, -1.0722e+01],\n",
       "        [ 4.2707e+00, -2.2621e+01,  8.0044e+00, -1.1816e+01, -1.0761e+01,\n",
       "         -1.1153e+01,  1.0591e+01,  7.7876e+00,  9.1122e+00, -1.2213e+01],\n",
       "        [ 9.1915e+00, -2.0468e+01,  7.8238e+00, -1.2189e+01, -1.4607e+01,\n",
       "         -1.4244e+01,  1.1778e+01,  1.5268e+01,  6.0902e+00, -3.1300e+00],\n",
       "        [ 4.4488e+00, -2.0962e+01,  2.3169e+00, -1.8570e+01, -4.5647e+00,\n",
       "          5.4270e+00,  1.1131e+01,  2.5679e+00,  8.4005e-01, -1.5968e+01],\n",
       "        [ 1.8397e+00, -2.2351e+01, -3.2580e+00, -9.9737e+00, -1.6726e+00,\n",
       "         -4.7038e+00,  1.6037e+01,  4.4565e+00,  5.2482e+00, -1.3037e+01],\n",
       "        [-2.8045e+00, -1.6671e+01,  1.6059e+00, -2.2840e+01, -6.4706e+00,\n",
       "         -2.3587e+01,  1.1475e+01,  1.3715e+01, -1.7752e+00, -9.3774e+00],\n",
       "        [ 1.4857e+00, -1.9206e+01, -8.6892e-01, -8.1627e+00, -5.3833e+00,\n",
       "         -5.5425e+00,  1.7770e+01,  1.6497e+01, -4.7968e+00, -1.9947e+01],\n",
       "        [-1.6429e+00, -1.9426e+01,  2.7666e+00, -2.2992e+01, -6.8259e+00,\n",
       "         -7.3438e+00,  1.3469e+01,  1.0242e+01,  2.3234e+00, -1.7253e+01],\n",
       "        [ 3.6158e+00, -1.6275e+01,  1.6634e+01, -1.2725e+01,  1.1410e+01,\n",
       "         -4.0758e+00,  1.6511e+01,  1.4101e+01,  8.7346e+00, -3.5918e+00],\n",
       "        [-5.2833e+00, -1.1047e+01,  8.5641e+00, -1.8856e+01, -3.4653e+00,\n",
       "         -1.8304e+01,  1.1987e+01,  6.4736e+00, -8.8133e+00, -6.3610e+00],\n",
       "        [ 1.4465e+00, -2.1040e+01,  7.9577e+00, -2.1652e+01, -1.0066e+01,\n",
       "         -6.5166e+00,  1.3339e+01,  4.6986e+00,  8.9746e-01, -1.5304e+01],\n",
       "        [ 5.9368e+00, -2.5515e+01,  4.9778e+00, -2.5351e+01, -3.4270e+00,\n",
       "         -1.7894e+01,  7.5889e+00,  1.6521e+01, -3.8670e+00, -1.1936e+01],\n",
       "        [ 3.5685e+00, -2.9169e+01,  1.2551e+01, -2.3110e+01, -2.1230e+00,\n",
       "         -2.5720e+00,  1.0637e+01,  7.5285e+00,  4.1332e+00, -7.5625e+00],\n",
       "        [-5.3542e+00, -1.8415e+01,  6.6308e+00, -1.9501e+01, -1.0434e+01,\n",
       "         -1.1163e+01,  1.0532e+01,  9.9398e+00,  8.2983e+00, -6.0132e+00],\n",
       "        [-1.0976e+01, -1.4518e+01,  7.4304e+00, -1.3445e+01, -2.9870e+00,\n",
       "         -7.9807e-01,  1.2491e+01,  7.9617e+00,  7.1359e+00,  3.0351e-01],\n",
       "        [-8.2629e+00, -2.0248e+01,  1.0959e+01, -2.1925e+01,  3.8770e+00,\n",
       "         -1.0674e+01,  1.9577e+01,  5.4712e+00,  6.4947e+00, -1.7423e+01],\n",
       "        [ 2.8909e-01, -2.0529e+01,  2.9090e+00, -1.3068e+01, -9.1659e+00,\n",
       "         -1.0871e+00,  4.6756e+00,  7.5446e+00,  6.4546e+00, -6.4418e+00],\n",
       "        [ 1.4230e+01, -1.5523e+01,  4.9755e+00, -1.9878e+01, -1.2222e+01,\n",
       "         -3.7364e+00,  8.7727e+00,  9.3302e+00,  2.9563e+00, -2.0611e+01],\n",
       "        [-2.6730e+00, -2.1246e+01,  1.4511e+01, -2.0393e+01, -3.9283e-01,\n",
       "         -1.0640e+01,  9.4683e+00, -6.7684e-01,  1.1077e+01, -1.9656e+01],\n",
       "        [ 2.8280e+00, -2.2268e+01,  4.9566e+00, -7.8169e+00, -5.7451e+00,\n",
       "         -4.7466e+00,  2.6494e+00, -4.5583e-01,  3.5114e+00, -8.2046e+00],\n",
       "        [ 1.3283e+01, -2.1576e+01,  3.2462e+00, -1.4745e+01, -9.0985e+00,\n",
       "         -8.9454e+00,  1.5375e+01,  1.5115e+01, -3.1468e-01, -1.7865e+01],\n",
       "        [ 1.4152e+00, -1.8646e+01,  1.0036e+01, -2.5160e+01, -2.4166e-02,\n",
       "         -4.9048e-01,  1.4305e+01,  2.0201e+00,  6.9111e+00, -8.5111e+00],\n",
       "        [ 1.0182e+01, -1.5353e+01,  1.6971e+00, -1.9924e+01,  4.6469e-02,\n",
       "         -1.2972e+01,  1.2589e+01,  7.3080e+00, -1.3352e+00, -2.3431e+01],\n",
       "        [ 2.4999e-01, -1.8181e+01,  4.5140e+00, -1.7942e+01,  2.3141e+00,\n",
       "         -1.4372e+01,  7.3364e+00,  9.6310e+00,  5.0918e+00, -9.4163e+00],\n",
       "        [-4.0400e+00, -1.5735e+01,  3.0448e+00, -1.8316e+01, -3.1771e+00,\n",
       "         -1.6914e+01,  6.9828e+00,  1.2071e+01,  5.6907e+00, -7.4526e+00],\n",
       "        [ 1.7605e+01, -2.2473e+01,  4.3442e+00, -1.3595e+01, -8.2811e+00,\n",
       "          2.1428e+00,  1.0821e+01,  7.0397e+00,  6.5879e+00, -2.0063e+01],\n",
       "        [-1.0919e+00, -2.4638e+01,  1.8930e+00, -1.5982e+01, -7.9910e+00,\n",
       "         -1.2190e+01,  1.0874e+01,  5.7493e+00,  8.5003e+00, -1.2548e+01],\n",
       "        [ 6.7890e+00, -2.8721e+01,  7.8526e+00, -1.0888e+01, -8.0010e+00,\n",
       "         -6.0473e+00,  6.9102e+00,  2.9219e+00,  2.8673e+00, -1.2442e+01],\n",
       "        [ 4.1338e+00, -2.2093e+01,  1.2057e+00, -1.2955e+01, -1.1910e+01,\n",
       "         -1.0480e+01,  1.2674e+01,  1.3323e+01,  1.0626e+00, -1.1241e+01]])"
      ]
     },
     "execution_count": 6,
     "metadata": {},
     "output_type": "execute_result"
    }
   ],
   "source": [
    "out"
   ]
  },
  {
   "cell_type": "markdown",
   "metadata": {},
   "source": [
    "Now we have 10 outputs for our network. We want to pass in an image to our network and get out a probability distribution over the classes that tells us the likely class(es) the image belongs to. Something that looks like this:\n",
    "<img src='assets/image_distribution.png' width=500px>\n",
    "\n",
    "Here we see that the probability for each class is roughly the same. This is representing an untrained network, it hasn't seen any data yet so it just returns a uniform distribution with equal probabilities for each class.\n",
    "\n",
    "To calculate this probability distribution, we often use the [**softmax** function](https://en.wikipedia.org/wiki/Softmax_function). Mathematically this looks like\n",
    "\n",
    "$$\n",
    "\\Large \\sigma(x_i) = \\cfrac{e^{x_i}}{\\sum_k^K{e^{x_k}}}\n",
    "$$\n",
    "\n",
    "What this does is squish each input $x_i$ between 0 and 1 and normalizes the values to give you a proper probability distribution where the probabilites sum up to one.\n",
    "\n",
    "> **Exercise:** Implement a function `softmax` that performs the softmax calculation and returns probability distributions for each example in the batch. Note that you'll need to pay attention to the shapes when doing this. If you have a tensor `a` with shape `(64, 10)` and a tensor `b` with shape `(64,)`, doing `a/b` will give you an error because PyTorch will try to do the division across the columns (called broadcasting) but you'll get a size mismatch. The way to think about this is for each of the 64 examples, you only want to divide by one value, the sum in the denominator. So you need `b` to have a shape of `(64, 1)`. This way PyTorch will divide the 10 values in each row of `a` by the one value in each row of `b`. Pay attention to how you take the sum as well. You'll need to define the `dim` keyword in `torch.sum`. Setting `dim=0` takes the sum across the rows while `dim=1` takes the sum across the columns."
   ]
  },
  {
   "cell_type": "code",
   "execution_count": 7,
   "metadata": {},
   "outputs": [
    {
     "name": "stdout",
     "output_type": "stream",
     "text": [
      "torch.Size([64, 10])\n",
      "tensor([1.0000, 1.0000, 1.0000, 1.0000, 1.0000, 1.0000, 1.0000, 1.0000, 1.0000,\n",
      "        1.0000, 1.0000, 1.0000, 1.0000, 1.0000, 1.0000, 1.0000, 1.0000, 1.0000,\n",
      "        1.0000, 1.0000, 1.0000, 1.0000, 1.0000, 1.0000, 1.0000, 1.0000, 1.0000,\n",
      "        1.0000, 1.0000, 1.0000, 1.0000, 1.0000, 1.0000, 1.0000, 1.0000, 1.0000,\n",
      "        1.0000, 1.0000, 1.0000, 1.0000, 1.0000, 1.0000, 1.0000, 1.0000, 1.0000,\n",
      "        1.0000, 1.0000, 1.0000, 1.0000, 1.0000, 1.0000, 1.0000, 1.0000, 1.0000,\n",
      "        1.0000, 1.0000, 1.0000, 1.0000, 1.0000, 1.0000, 1.0000, 1.0000, 1.0000,\n",
      "        1.0000])\n"
     ]
    }
   ],
   "source": [
    "## Solution\n",
    "def softmax(x):\n",
    "    return torch.exp(x)/torch.sum(torch.exp(x), dim=1).view(-1, 1)\n",
    "\n",
    "probabilities = softmax(out)\n",
    "\n",
    "# Does it have the right shape? Should be (64, 10)\n",
    "print(probabilities.shape)\n",
    "# Does it sum to 1?\n",
    "print(probabilities.sum(dim=1))"
   ]
  },
  {
   "cell_type": "markdown",
   "metadata": {},
   "source": [
    "## Building networks with PyTorch\n",
    "\n",
    "PyTorch provides a module `nn` that makes building networks much simpler. Here I'll show you how to build the same one as above with 784 inputs, 256 hidden units, 10 output units and a softmax output."
   ]
  },
  {
   "cell_type": "code",
   "execution_count": 9,
   "metadata": {},
   "outputs": [],
   "source": [
    "from torch import nn"
   ]
  },
  {
   "cell_type": "code",
   "execution_count": 10,
   "metadata": {},
   "outputs": [],
   "source": [
    "class Network(nn.Module):\n",
    "    def __init__(self):\n",
    "        super().__init__()\n",
    "        \n",
    "        # Inputs to hidden layer linear transformation\n",
    "        self.hidden = nn.Linear(784, 256)\n",
    "        # Output layer, 10 units - one for each digit\n",
    "        self.output = nn.Linear(256, 10)\n",
    "        \n",
    "        # Define sigmoid activation and softmax output \n",
    "        self.sigmoid = nn.Sigmoid()\n",
    "        self.softmax = nn.Softmax(dim=1)\n",
    "        \n",
    "    def forward(self, x):\n",
    "        # Pass the input tensor through each of our operations\n",
    "        x = self.hidden(x)\n",
    "        x = self.sigmoid(x)\n",
    "        x = self.output(x)\n",
    "        x = self.softmax(x)\n",
    "        \n",
    "        return x"
   ]
  },
  {
   "cell_type": "markdown",
   "metadata": {},
   "source": [
    "Let's go through this bit by bit.\n",
    "\n",
    "```python\n",
    "class Network(nn.Module):\n",
    "```\n",
    "\n",
    "Here we're inheriting from `nn.Module`. Combined with `super().__init__()` this creates a class that tracks the architecture and provides a lot of useful methods and attributes. It is mandatory to inherit from `nn.Module` when you're creating a class for your network. The name of the class itself can be anything.\n",
    "\n",
    "```python\n",
    "self.hidden = nn.Linear(784, 256)\n",
    "```\n",
    "\n",
    "This line creates a module for a linear transformation, $x\\mathbf{W} + b$, with 784 inputs and 256 outputs and assigns it to `self.hidden`. The module automatically creates the weight and bias tensors which we'll use in the `forward` method. You can access the weight and bias tensors once the network (`net`) is created with `net.hidden.weight` and `net.hidden.bias`.\n",
    "\n",
    "```python\n",
    "self.output = nn.Linear(256, 10)\n",
    "```\n",
    "\n",
    "Similarly, this creates another linear transformation with 256 inputs and 10 outputs.\n",
    "\n",
    "```python\n",
    "self.sigmoid = nn.Sigmoid()\n",
    "self.softmax = nn.Softmax(dim=1)\n",
    "```\n",
    "\n",
    "Here I defined operations for the sigmoid activation and softmax output. Setting `dim=1` in `nn.Softmax(dim=1)` calculates softmax across the columns.\n",
    "\n",
    "```python\n",
    "def forward(self, x):\n",
    "```\n",
    "\n",
    "PyTorch networks created with `nn.Module` must have a `forward` method defined. It takes in a tensor `x` and passes it through the operations you defined in the `__init__` method.\n",
    "\n",
    "```python\n",
    "x = self.hidden(x)\n",
    "x = self.sigmoid(x)\n",
    "x = self.output(x)\n",
    "x = self.softmax(x)\n",
    "```\n",
    "\n",
    "Here the input tensor `x` is passed through each operation a reassigned to `x`. We can see that the input tensor goes through the hidden layer, then a sigmoid function, then the output layer, and finally the softmax function. It doesn't matter what you name the variables here, as long as the inputs and outputs of the operations match the network architecture you want to build. The order in which you define things in the `__init__` method doesn't matter, but you'll need to sequence the operations correctly in the `forward` method.\n",
    "\n",
    "Now we can create a `Network` object."
   ]
  },
  {
   "cell_type": "code",
   "execution_count": 11,
   "metadata": {},
   "outputs": [
    {
     "data": {
      "text/plain": [
       "Network(\n",
       "  (hidden): Linear(in_features=784, out_features=256, bias=True)\n",
       "  (output): Linear(in_features=256, out_features=10, bias=True)\n",
       "  (sigmoid): Sigmoid()\n",
       "  (softmax): Softmax()\n",
       ")"
      ]
     },
     "execution_count": 11,
     "metadata": {},
     "output_type": "execute_result"
    }
   ],
   "source": [
    "# Create the network and look at it's text representation\n",
    "model = Network()\n",
    "model"
   ]
  },
  {
   "cell_type": "markdown",
   "metadata": {},
   "source": [
    "You can define the network somewhat more concisely and clearly using the `torch.nn.functional` module. This is the most common way you'll see networks defined as many operations are simple element-wise functions. We normally import this module as `F`, `import torch.nn.functional as F`."
   ]
  },
  {
   "cell_type": "code",
   "execution_count": 10,
   "metadata": {
    "collapsed": true
   },
   "outputs": [],
   "source": [
    "import torch.nn.functional as F\n",
    "\n",
    "class Network(nn.Module):\n",
    "    def __init__(self):\n",
    "        super().__init__()\n",
    "        # Inputs to hidden layer linear transformation\n",
    "        self.hidden = nn.Linear(784, 256)\n",
    "        # Output layer, 10 units - one for each digit\n",
    "        self.output = nn.Linear(256, 10)\n",
    "        \n",
    "    def forward(self, x):\n",
    "        # Hidden layer with sigmoid activation\n",
    "        x = F.sigmoid(self.hidden(x))\n",
    "        # Output layer with softmax activation\n",
    "        x = F.softmax(self.output(x), dim=1)\n",
    "        \n",
    "        return x"
   ]
  },
  {
   "cell_type": "markdown",
   "metadata": {},
   "source": [
    "### Activation functions\n",
    "\n",
    "So far we've only been looking at the softmax activation, but in general any function can be used as an activation function. The only requirement is that for a network to approximate a non-linear function, the activation functions must be non-linear. Here are a few more examples of common activation functions: Tanh (hyperbolic tangent), and ReLU (rectified linear unit).\n",
    "\n",
    "<img src=\"assets/activation.png\" width=700px>\n",
    "\n",
    "In practice, the ReLU function is used almost exclusively as the activation function for hidden layers."
   ]
  },
  {
   "cell_type": "markdown",
   "metadata": {},
   "source": [
    "### Your Turn to Build a Network\n",
    "\n",
    "<img src=\"assets/mlp_mnist.png\" width=600px>\n",
    "\n",
    "> **Exercise:** Create a network with 784 input units, a hidden layer with 128 units and a ReLU activation, then a hidden layer with 64 units and a ReLU activation, and finally an output layer with a softmax activation as shown above. You can use a ReLU activation with the `nn.ReLU` module or `F.relu` function.\n",
    "\n",
    "It's good practice to name your layers by their type of network, for instance 'fc' to represent a fully-connected layer. As you code your solution, use `fc1`, `fc2`, and `fc3` as your layer names."
   ]
  },
  {
   "cell_type": "code",
   "execution_count": 12,
   "metadata": {
    "scrolled": true
   },
   "outputs": [
    {
     "data": {
      "text/plain": [
       "Network(\n",
       "  (fc1): Linear(in_features=784, out_features=128, bias=True)\n",
       "  (fc2): Linear(in_features=128, out_features=64, bias=True)\n",
       "  (fc3): Linear(in_features=64, out_features=10, bias=True)\n",
       ")"
      ]
     },
     "execution_count": 12,
     "metadata": {},
     "output_type": "execute_result"
    }
   ],
   "source": [
    "## Solution\n",
    "\n",
    "class Network(nn.Module):\n",
    "    def __init__(self):\n",
    "        super().__init__()\n",
    "        # Defining the layers, 128, 64, 10 units each\n",
    "        self.fc1 = nn.Linear(784, 128)\n",
    "        self.fc2 = nn.Linear(128, 64)\n",
    "        # Output layer, 10 units - one for each digit\n",
    "        self.fc3 = nn.Linear(64, 10)\n",
    "        \n",
    "    def forward(self, x):\n",
    "        ''' Forward pass through the network, returns the output logits '''\n",
    "        \n",
    "        x = self.fc1(x)\n",
    "        x = F.relu(x)\n",
    "        x = self.fc2(x)\n",
    "        x = F.relu(x)\n",
    "        x = self.fc3(x)\n",
    "        x = F.softmax(x, dim=1)\n",
    "        \n",
    "        return x\n",
    "\n",
    "model = Network()\n",
    "model"
   ]
  },
  {
   "cell_type": "markdown",
   "metadata": {},
   "source": [
    "### Initializing weights and biases\n",
    "\n",
    "The weights and such are automatically initialized for you, but it's possible to customize how they are initialized. The weights and biases are tensors attached to the layer you defined, you can get them with `model.fc1.weight` for instance."
   ]
  },
  {
   "cell_type": "code",
   "execution_count": 13,
   "metadata": {},
   "outputs": [
    {
     "name": "stdout",
     "output_type": "stream",
     "text": [
      "Parameter containing:\n",
      "tensor([[-0.0047,  0.0201, -0.0196,  ...,  0.0241,  0.0102,  0.0249],\n",
      "        [ 0.0041,  0.0288, -0.0180,  ...,  0.0168, -0.0035, -0.0308],\n",
      "        [ 0.0172, -0.0260, -0.0001,  ...,  0.0113, -0.0349, -0.0066],\n",
      "        ...,\n",
      "        [ 0.0017, -0.0072,  0.0135,  ...,  0.0088, -0.0314, -0.0274],\n",
      "        [ 0.0099, -0.0253, -0.0094,  ...,  0.0115,  0.0130,  0.0076],\n",
      "        [-0.0117, -0.0060, -0.0033,  ...,  0.0020,  0.0289, -0.0177]],\n",
      "       requires_grad=True)\n",
      "Parameter containing:\n",
      "tensor([-0.0215,  0.0108,  0.0344,  0.0191, -0.0343, -0.0065, -0.0027, -0.0033,\n",
      "        -0.0181, -0.0033, -0.0229,  0.0116,  0.0092, -0.0303,  0.0250, -0.0299,\n",
      "        -0.0084, -0.0212,  0.0213, -0.0115, -0.0198,  0.0165,  0.0331, -0.0081,\n",
      "         0.0318, -0.0034,  0.0167,  0.0208, -0.0184,  0.0216,  0.0065,  0.0055,\n",
      "        -0.0196,  0.0330,  0.0244,  0.0259, -0.0005,  0.0088,  0.0107, -0.0253,\n",
      "         0.0208,  0.0334, -0.0325, -0.0128,  0.0138,  0.0160,  0.0256,  0.0184,\n",
      "        -0.0190,  0.0037, -0.0286, -0.0130, -0.0267, -0.0314,  0.0244, -0.0139,\n",
      "        -0.0265,  0.0055,  0.0340,  0.0178,  0.0214,  0.0050, -0.0146, -0.0210,\n",
      "         0.0061,  0.0096, -0.0102, -0.0344, -0.0150,  0.0173, -0.0259, -0.0008,\n",
      "        -0.0040, -0.0348, -0.0315,  0.0135, -0.0328,  0.0237, -0.0329, -0.0136,\n",
      "        -0.0065, -0.0130, -0.0162,  0.0165, -0.0324, -0.0246,  0.0153, -0.0341,\n",
      "        -0.0164, -0.0075, -0.0301, -0.0007,  0.0213,  0.0148, -0.0101, -0.0315,\n",
      "        -0.0210,  0.0262,  0.0142,  0.0236,  0.0128, -0.0174,  0.0205,  0.0306,\n",
      "        -0.0042,  0.0264,  0.0114,  0.0191,  0.0175, -0.0095, -0.0296,  0.0297,\n",
      "         0.0205,  0.0129, -0.0223,  0.0180,  0.0031, -0.0003, -0.0296, -0.0044,\n",
      "        -0.0135, -0.0219, -0.0346,  0.0205,  0.0157,  0.0019, -0.0124,  0.0018],\n",
      "       requires_grad=True)\n"
     ]
    }
   ],
   "source": [
    "print(model.fc1.weight)\n",
    "print(model.fc1.bias)"
   ]
  },
  {
   "cell_type": "markdown",
   "metadata": {},
   "source": [
    "For custom initialization, we want to modify these tensors in place. These are actually autograd *Variables*, so we need to get back the actual tensors with `model.fc1.weight.data`. Once we have the tensors, we can fill them with zeros (for biases) or random normal values."
   ]
  },
  {
   "cell_type": "code",
   "execution_count": 14,
   "metadata": {},
   "outputs": [
    {
     "data": {
      "text/plain": [
       "tensor([0., 0., 0., 0., 0., 0., 0., 0., 0., 0., 0., 0., 0., 0., 0., 0., 0., 0., 0., 0., 0., 0., 0., 0.,\n",
       "        0., 0., 0., 0., 0., 0., 0., 0., 0., 0., 0., 0., 0., 0., 0., 0., 0., 0., 0., 0., 0., 0., 0., 0.,\n",
       "        0., 0., 0., 0., 0., 0., 0., 0., 0., 0., 0., 0., 0., 0., 0., 0., 0., 0., 0., 0., 0., 0., 0., 0.,\n",
       "        0., 0., 0., 0., 0., 0., 0., 0., 0., 0., 0., 0., 0., 0., 0., 0., 0., 0., 0., 0., 0., 0., 0., 0.,\n",
       "        0., 0., 0., 0., 0., 0., 0., 0., 0., 0., 0., 0., 0., 0., 0., 0., 0., 0., 0., 0., 0., 0., 0., 0.,\n",
       "        0., 0., 0., 0., 0., 0., 0., 0.])"
      ]
     },
     "execution_count": 14,
     "metadata": {},
     "output_type": "execute_result"
    }
   ],
   "source": [
    "# Set biases to all zeros\n",
    "model.fc1.bias.data.fill_(0)"
   ]
  },
  {
   "cell_type": "code",
   "execution_count": 15,
   "metadata": {},
   "outputs": [
    {
     "data": {
      "text/plain": [
       "tensor([[-4.8880e-05,  1.4624e-03,  1.6117e-02,  ..., -1.0617e-03,\n",
       "          4.0204e-03, -5.9741e-03],\n",
       "        [-1.0442e-02, -7.3212e-03,  6.5854e-03,  ...,  1.6301e-03,\n",
       "          5.2707e-03, -1.7740e-02],\n",
       "        [-4.3175e-03,  4.4661e-03,  6.4493e-03,  ...,  8.9609e-04,\n",
       "         -8.7773e-03,  2.3228e-03],\n",
       "        ...,\n",
       "        [-1.5207e-02, -1.6482e-02, -4.7784e-03,  ...,  1.8392e-02,\n",
       "          1.3122e-02, -1.8029e-02],\n",
       "        [ 3.2704e-03,  1.0431e-02, -2.1786e-03,  ...,  1.1359e-02,\n",
       "         -7.3274e-03,  3.1891e-03],\n",
       "        [ 1.3767e-02,  2.1444e-03,  1.6093e-02,  ...,  4.8759e-05,\n",
       "          1.5299e-02,  8.6856e-03]])"
      ]
     },
     "execution_count": 15,
     "metadata": {},
     "output_type": "execute_result"
    }
   ],
   "source": [
    "# sample from random normal with standard dev = 0.01\n",
    "model.fc1.weight.data.normal_(std=0.01)"
   ]
  },
  {
   "cell_type": "markdown",
   "metadata": {},
   "source": [
    "### Forward pass\n",
    "\n",
    "Now that we have a network, let's see what happens when we pass in an image."
   ]
  },
  {
   "cell_type": "code",
   "execution_count": 15,
   "metadata": {},
   "outputs": [
    {
     "data": {
      "image/png": "[encoded data removed]",
      "text/plain": [
       "<Figure size 432x648 with 2 Axes>"
      ]
     },
     "metadata": {
      "image/png": {
       "height": 226,
       "width": 423
      },
      "needs_background": "light"
     },
     "output_type": "display_data"
    }
   ],
   "source": [
    "# Grab some data \n",
    "dataiter = iter(trainloader)\n",
    "images, labels = dataiter.next()\n",
    "\n",
    "# Resize images into a 1D vector, new shape is (batch size, color channels, image pixels) \n",
    "images.resize_(64, 1, 784)\n",
    "# or images.resize_(images.shape[0], 1, 784) to automatically get batch size\n",
    "\n",
    "# Forward pass through the network\n",
    "img_idx = 0\n",
    "ps = model.forward(images[img_idx,:])\n",
    "\n",
    "img = images[img_idx]\n",
    "helper.view_classify(img.view(1, 28, 28), ps)"
   ]
  },
  {
   "cell_type": "markdown",
   "metadata": {},
   "source": [
    "As you can see above, our network has basically no idea what this digit is. It's because we haven't trained it yet, all the weights are random!\n",
    "\n",
    "### Using `nn.Sequential`\n",
    "\n",
    "PyTorch provides a convenient way to build networks like this where a tensor is passed sequentially through operations, `nn.Sequential` ([documentation](https://pytorch.org/docs/master/nn.html#torch.nn.Sequential)). Using this to build the equivalent network:"
   ]
  },
  {
   "cell_type": "code",
   "execution_count": 16,
   "metadata": {},
   "outputs": [
    {
     "name": "stdout",
     "output_type": "stream",
     "text": [
      "Sequential(\n",
      "  (0): Linear(in_features=784, out_features=128, bias=True)\n",
      "  (1): ReLU()\n",
      "  (2): Linear(in_features=128, out_features=64, bias=True)\n",
      "  (3): ReLU()\n",
      "  (4): Linear(in_features=64, out_features=10, bias=True)\n",
      "  (5): Softmax()\n",
      ")\n"
     ]
    },
    {
     "data": {
      "image/png": "[encoded data removed]",
      "text/plain": [
       "<Figure size 432x648 with 2 Axes>"
      ]
     },
     "metadata": {
      "image/png": {
       "height": 226,
       "width": 423
      },
      "needs_background": "light"
     },
     "output_type": "display_data"
    }
   ],
   "source": [
    "# Hyperparameters for our network\n",
    "input_size = 784\n",
    "hidden_sizes = [128, 64]\n",
    "output_size = 10\n",
    "\n",
    "# Build a feed-forward network\n",
    "model = nn.Sequential(nn.Linear(input_size, hidden_sizes[0]),\n",
    "                      nn.ReLU(),\n",
    "                      nn.Linear(hidden_sizes[0], hidden_sizes[1]),\n",
    "                      nn.ReLU(),\n",
    "                      nn.Linear(hidden_sizes[1], output_size),\n",
    "                      nn.Softmax(dim=1))\n",
    "print(model)\n",
    "\n",
    "# Forward pass through the network and display output\n",
    "images, labels = next(iter(trainloader))\n",
    "images.resize_(images.shape[0], 1, 784)\n",
    "ps = model.forward(images[0,:])\n",
    "helper.view_classify(images[0].view(1, 28, 28), ps)"
   ]
  },
  {
   "cell_type": "markdown",
   "metadata": {},
   "source": [
    "The operations are availble by passing in the appropriate index. For example, if you want to get first Linear operation and look at the weights, you'd use `model[0]`."
   ]
  },
  {
   "cell_type": "code",
   "execution_count": 17,
   "metadata": {},
   "outputs": [
    {
     "name": "stdout",
     "output_type": "stream",
     "text": [
      "Linear(in_features=784, out_features=128, bias=True)\n"
     ]
    },
    {
     "data": {
      "text/plain": [
       "Parameter containing:\n",
       "tensor([[-0.0237, -0.0264,  0.0242,  ..., -0.0037, -0.0078, -0.0003],\n",
       "        [-0.0215, -0.0113,  0.0338,  ..., -0.0324,  0.0210,  0.0229],\n",
       "        [-0.0339, -0.0283, -0.0192,  ..., -0.0097, -0.0128,  0.0070],\n",
       "        ...,\n",
       "        [ 0.0118,  0.0306,  0.0313,  ..., -0.0040,  0.0036, -0.0309],\n",
       "        [ 0.0211, -0.0135,  0.0095,  ..., -0.0324,  0.0031,  0.0069],\n",
       "        [-0.0190, -0.0082,  0.0348,  ...,  0.0333, -0.0310, -0.0008]],\n",
       "       requires_grad=True)"
      ]
     },
     "execution_count": 17,
     "metadata": {},
     "output_type": "execute_result"
    }
   ],
   "source": [
    "print(model[0])\n",
    "model[0].weight"
   ]
  },
  {
   "cell_type": "markdown",
   "metadata": {},
   "source": [
    "You can also pass in an `OrderedDict` to name the individual layers and operations, instead of using incremental integers. Note that dictionary keys must be unique, so _each operation must have a different name_."
   ]
  },
  {
   "cell_type": "code",
   "execution_count": 18,
   "metadata": {},
   "outputs": [
    {
     "data": {
      "text/plain": [
       "Sequential(\n",
       "  (fc1): Linear(in_features=784, out_features=128, bias=True)\n",
       "  (relu1): ReLU()\n",
       "  (fc2): Linear(in_features=128, out_features=64, bias=True)\n",
       "  (relu2): ReLU()\n",
       "  (output): Linear(in_features=64, out_features=10, bias=True)\n",
       "  (softmax): Softmax()\n",
       ")"
      ]
     },
     "execution_count": 18,
     "metadata": {},
     "output_type": "execute_result"
    }
   ],
   "source": [
    "from collections import OrderedDict\n",
    "model = nn.Sequential(OrderedDict([\n",
    "                      ('fc1', nn.Linear(input_size, hidden_sizes[0])),\n",
    "                      ('relu1', nn.ReLU()),\n",
    "                      ('fc2', nn.Linear(hidden_sizes[0], hidden_sizes[1])),\n",
    "                      ('relu2', nn.ReLU()),\n",
    "                      ('output', nn.Linear(hidden_sizes[1], output_size)),\n",
    "                      ('softmax', nn.Softmax(dim=1))]))\n",
    "model"
   ]
  },
  {
   "cell_type": "markdown",
   "metadata": {},
   "source": [
    "Now you can access layers either by integer or the name"
   ]
  },
  {
   "cell_type": "code",
   "execution_count": 20,
   "metadata": {},
   "outputs": [
    {
     "name": "stdout",
     "output_type": "stream",
     "text": [
      "Linear(in_features=784, out_features=128, bias=True)\n",
      "Linear(in_features=784, out_features=128, bias=True)\n"
     ]
    }
   ],
   "source": [
    "print(model[0])\n",
    "print(model.fc1)"
   ]
  },
  {
   "cell_type": "markdown",
   "metadata": {},
   "source": [
    "In the next notebook, we'll see how we can train a neural network to accuractly predict the numbers appearing in the MNIST images."
   ]
  }
 ],
 "metadata": {
  "kernelspec": {
   "display_name": "Python 3",
   "language": "python",
   "name": "python3"
  },
  "language_info": {
   "codemirror_mode": {
    "name": "ipython",
    "version": 3
   },
   "file_extension": ".py",
   "mimetype": "text/x-python",
   "name": "python",
   "nbconvert_exporter": "python",
   "pygments_lexer": "ipython3",
   "version": "3.7.2"
  }
 },
 "nbformat": 4,
 "nbformat_minor": 2
}
