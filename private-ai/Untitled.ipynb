{
 "cells": [
  {
   "cell_type": "code",
   "execution_count": 10,
   "metadata": {},
   "outputs": [],
   "source": [
    "import numpy as np\n",
    "l1 = [10,20]\n",
    "l2 = [2, 14, 15, 16]\n",
    "l3 = [10, 20, 1, 1]"
   ]
  },
  {
   "cell_type": "code",
   "execution_count": 44,
   "metadata": {},
   "outputs": [],
   "source": [
    "def RoundUp(toRound):\n",
    "     if (toRound % 10 == 0): \n",
    "        return toRound\n",
    "     return (10 - toRound % 10) + toRound"
   ]
  },
  {
   "cell_type": "code",
   "execution_count": 95,
   "metadata": {},
   "outputs": [],
   "source": [
    "def round( n ):  \n",
    "    a = (n // 10) * 10\n",
    "#     print(n)\n",
    "#     print(a)\n",
    "    b = a + 10\n",
    "#     print(b)\n",
    "    if n - a >= b - n:\n",
    "#         print(b)\n",
    "#         print(\"\\n\")\n",
    "        return b\n",
    "    else:\n",
    "#         print(a)\n",
    "#         print(\"\\n\")\n",
    "        return a"
   ]
  },
  {
   "cell_type": "code",
   "execution_count": 96,
   "metadata": {},
   "outputs": [],
   "source": [
    "total = 0\n",
    "for i in l2:\n",
    "    x = round(i)\n",
    "    total += x"
   ]
  },
  {
   "cell_type": "code",
   "execution_count": 97,
   "metadata": {},
   "outputs": [
    {
     "data": {
      "text/plain": [
       "50"
      ]
     },
     "execution_count": 97,
     "metadata": {},
     "output_type": "execute_result"
    }
   ],
   "source": [
    "total"
   ]
  },
  {
   "cell_type": "code",
   "execution_count": 102,
   "metadata": {},
   "outputs": [],
   "source": [
    "week_boolean = [7,True]"
   ]
  },
  {
   "cell_type": "code",
   "execution_count": 101,
   "metadata": {},
   "outputs": [],
   "source": [
    "# When not on a vacation, on weekdays, the alarm should ring at \"7:00\" \n",
    "# on the weekends (Saturday and Sunday) it should ring at \"10:00\". \n",
    "\n",
    "# While on a vacation, it should ring at \"10:00\" on weekdays. \n",
    "# On vacation, it should not ring on weekends, that is, it should return \"off\"."
   ]
  },
  {
   "cell_type": "code",
   "execution_count": 105,
   "metadata": {},
   "outputs": [],
   "source": [
    "def automate(week_boolean):\n",
    "    day_of_week = week_boolean[0]\n",
    "    on_vacation = week_boolean[1]\n",
    "    if on_vacation==False:\n",
    "        if day_of_week<=5:\n",
    "            print(\"7:00\")\n",
    "        else:\n",
    "            print(\"10:00\")\n",
    "    else:\n",
    "        if day_of_week<=5:\n",
    "            print(\"10:00\")\n",
    "        else:\n",
    "            print(\"off\")"
   ]
  },
  {
   "cell_type": "code",
   "execution_count": 106,
   "metadata": {},
   "outputs": [
    {
     "name": "stdout",
     "output_type": "stream",
     "text": [
      "off\n"
     ]
    }
   ],
   "source": [
    "automate([7,True])"
   ]
  },
  {
   "cell_type": "code",
   "execution_count": null,
   "metadata": {},
   "outputs": [],
   "source": []
  },
  {
   "cell_type": "code",
   "execution_count": 117,
   "metadata": {},
   "outputs": [],
   "source": [
    "n = 3"
   ]
  },
  {
   "cell_type": "code",
   "execution_count": 133,
   "metadata": {},
   "outputs": [],
   "source": [
    "import numpy as np\n",
    "sum_of_squares = 1\n",
    "squares_of_sum = 1\n",
    "for i in range(2,n+1):\n",
    "    sum_of_squares += np.square(i)\n",
    "    squares_of_sum += i\n",
    "squares_of_sum = squares_of_sum**2"
   ]
  },
  {
   "cell_type": "code",
   "execution_count": 134,
   "metadata": {},
   "outputs": [
    {
     "data": {
      "text/plain": [
       "14"
      ]
     },
     "execution_count": 134,
     "metadata": {},
     "output_type": "execute_result"
    }
   ],
   "source": [
    "sum_of_squares"
   ]
  },
  {
   "cell_type": "code",
   "execution_count": 131,
   "metadata": {},
   "outputs": [],
   "source": []
  },
  {
   "cell_type": "code",
   "execution_count": 135,
   "metadata": {},
   "outputs": [
    {
     "data": {
      "text/plain": [
       "36"
      ]
     },
     "execution_count": 135,
     "metadata": {},
     "output_type": "execute_result"
    }
   ],
   "source": [
    "squares_of_sum"
   ]
  },
  {
   "cell_type": "code",
   "execution_count": null,
   "metadata": {},
   "outputs": [],
   "source": []
  },
  {
   "cell_type": "code",
   "execution_count": null,
   "metadata": {},
   "outputs": [],
   "source": []
  },
  {
   "cell_type": "code",
   "execution_count": null,
   "metadata": {},
   "outputs": [],
   "source": []
  }
 ],
 "metadata": {
  "kernelspec": {
   "display_name": "Python 3",
   "language": "python",
   "name": "python3"
  },
  "language_info": {
   "codemirror_mode": {
    "name": "ipython",
    "version": 3
   },
   "file_extension": ".py",
   "mimetype": "text/x-python",
   "name": "python",
   "nbconvert_exporter": "python",
   "pygments_lexer": "ipython3",
   "version": "3.7.2"
  }
 },
 "nbformat": 4,
 "nbformat_minor": 2
}
